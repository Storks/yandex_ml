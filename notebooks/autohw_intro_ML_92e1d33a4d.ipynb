{
 "cells": [
  {
   "cell_type": "markdown",
   "metadata": {
    "id": "k3zbLLaSGH6Z"
   },
   "source": [
    "## Лабораторная работа \"Введение в ML\""
   ]
  },
  {
   "cell_type": "markdown",
   "metadata": {
    "id": "SL3v975uGH6h"
   },
   "source": [
    "В этой лабораторной вы:\n",
    "\n",
    "- познакомитесь с базовыми библиотеками для работы с табличными данными — `numpy` и `pandas`\n",
    "- поближе посмотрите на простейшие задачи машинного обучения: классификацию и регрессию\n",
    "- попробуете несколько метрик и поймёте, почему выбор метрики это важно\n",
    "- обучите несколько простых моделей\n",
    "- увидите связь между сложностью модели и переобучением\n",
    "- убедитесь, что без данных всё тлен"
   ]
  },
  {
   "cell_type": "markdown",
   "metadata": {
    "id": "ad3nBqBSGH6j"
   },
   "source": [
    "Загрузка самых базовых библиотек:"
   ]
  },
  {
   "cell_type": "code",
   "execution_count": 1,
   "metadata": {},
   "outputs": [],
   "source": [
    "import warnings\n",
    "warnings.filterwarnings('ignore')"
   ]
  },
  {
   "cell_type": "code",
   "execution_count": 2,
   "metadata": {
    "id": "Z8Iht5qhGH6l"
   },
   "outputs": [],
   "source": [
    "import numpy as np\n",
    "import pandas as pd\n",
    "import matplotlib.pyplot as plt\n",
    "# %matplotlib inline\n",
    "\n",
    "from sklearn.model_selection import train_test_split"
   ]
  },
  {
   "cell_type": "markdown",
   "metadata": {
    "id": "4W8Eq0sTGH6n"
   },
   "source": [
    "### [NumPy](https://numpy.org/doc/stable/user/index.html)\n",
    "\n",
    "С 1995 numeric, с 2006 NumPy — «Numerical Python extensions» или просто «NumPy»\n",
    "\n",
    "Возможности библиотеки NumPy:\n",
    "* работать с многомерными массивами (таблицами)\n",
    "* быстро вычислять математические функций на многомерных массивах\n",
    "\n",
    "Ядро пакета NumPy — объект [ndarray](https://docs.scipy.org/doc/numpy/reference/generated/numpy.ndarray.html)\n",
    "\n",
    "**Важные отличия** между NumPy arrays и Python sequences:\n",
    "* NumPy array имеет фиксированную длину, которая определяется в момент его создания (в отличие от Python lists, которые могут расти динамически)\n",
    "* Элементы в NumPy array должны быть одного типа\n",
    "* Можно выполнять операции непосредственно над NumPy arrays\n",
    "\n",
    "**Скорость** NumPy достигается с помощью:\n",
    "* реализации на C\n",
    "* векторизации и броадкастинга (broadcasting). Например, произведение массивов совместимых форм.\n",
    "\n",
    "Теперь давайте разберёмся подробнее и сделаем что-нибудь приятное и полезное в `numpy`!"
   ]
  },
  {
   "cell_type": "markdown",
   "metadata": {
    "id": "eS3UKcU6GH6o"
   },
   "source": [
    "### Индексация"
   ]
  },
  {
   "cell_type": "markdown",
   "metadata": {
    "id": "VqBzoEfvGH6p"
   },
   "source": [
    "В NumPy работает привычная индексация Python, ура! Включая использование отрицательных индексов и срезов (slices)"
   ]
  },
  {
   "cell_type": "markdown",
   "metadata": {
    "id": "Anq_nSYTGH6q"
   },
   "source": [
    "<div class=\"alert alert-info\">\n",
    "<b>Замечание 1:</b> Индексы и срезы в многомерных массивах не нужно разделять квадратными скобками,\n",
    "т.е. вместо <b>matrix[i][j]</b> нужно использовать <b>matrix[i, j]</b>. Первое тоже работает, но сначала выдаёт строку i, потом элемент j в ней.\n",
    "</div>"
   ]
  },
  {
   "cell_type": "markdown",
   "metadata": {
    "id": "OoHXSVIrGH6q"
   },
   "source": [
    "<div class=\"alert alert-danger\">\n",
    "<b>Замечание 2:</b> Срезы в NumPy создают view, а не копии, как в случае срезов встроенных последовательностей Python (string, tuple and list).\n",
    "</div>"
   ]
  },
  {
   "cell_type": "code",
   "execution_count": 3,
   "metadata": {
    "id": "YJKxBB4dGH6s",
    "outputId": "61139b1d-46db-4f7f-d5bb-96b7c3f96284"
   },
   "outputs": [
    {
     "data": {
      "text/plain": [
       "array([[0., 0., 0.],\n",
       "       [0., 0., 0.],\n",
       "       [0., 0., 0.]])"
      ]
     },
     "execution_count": 3,
     "metadata": {},
     "output_type": "execute_result"
    }
   ],
   "source": [
    "ones_matrix = np.ones((5, 5))\n",
    "ones_submatrix_view = ones_matrix[::2,::2] # creates a view, not copy\n",
    "ones_matrix[::2,::2] = np.zeros((3, 3))\n",
    "ones_submatrix_view"
   ]
  },
  {
   "cell_type": "markdown",
   "metadata": {
    "id": "jpEF1rp2GH6v"
   },
   "source": [
    "### Ссылка на Яндекс.Контест\n",
    "\n",
    "Решения и ответы в задачах, расположенных ниже, загружайте в контест на автоматическую проверку:\n",
    "https://new.contest.yandex.ru/60376/start\n"
   ]
  },
  {
   "cell_type": "markdown",
   "metadata": {
    "id": "eZpuxPhJGH6v"
   },
   "source": [
    "**1.** Реализуйте функцию, принимающую на вход два одномерных массива `first_array` и `second_array` и возвращающую матрицу, в которой первый массив соответствует первому столбцу матрицы, второй — второму.\n",
    "\n",
    "Вероятно первое, что приходит вам на ум, это конкатенация и транспонирование:"
   ]
  },
  {
   "cell_type": "code",
   "execution_count": 4,
   "metadata": {
    "id": "hmQk1N6rGH6w"
   },
   "outputs": [],
   "source": [
    "def construct_matrix(first_array, second_array):\n",
    "    \"\"\"\n",
    "    Construct matrix from pair of arrays\n",
    "    :param first_array: first array\n",
    "    :param second_array: second array\n",
    "    :return: constructed matrix\n",
    "    \"\"\"\n",
    "    return np.vstack([first_array, second_array]).T # <- your first right code here"
   ]
  },
  {
   "cell_type": "code",
   "execution_count": 5,
   "metadata": {
    "id": "TeFqyCz4GH6x",
    "outputId": "ecd0b7d3-7acf-40f2-878e-057d17136e8c",
    "scrolled": true
   },
   "outputs": [
    {
     "data": {
      "text/plain": [
       "array([[1, 3],\n",
       "       [2, 4]])"
      ]
     },
     "execution_count": 5,
     "metadata": {},
     "output_type": "execute_result"
    }
   ],
   "source": [
    "construct_matrix(np.array([1,2]),np.array([3,4]))"
   ]
  },
  {
   "cell_type": "markdown",
   "metadata": {
    "id": "lP-lmcA2GH6y"
   },
   "source": [
    "(в скобках заметим, что конкатенировать можно vertically, horizontally, depth wise методами vstack, hstack, dstack по трём осям (0, 1 и 2, соотвественно), либо в общем случае `np.concatenate` — поиграйтесь ниже с прекрасным примером четырёхмерной точки, чтобы точно всё для себя понять)"
   ]
  },
  {
   "cell_type": "code",
   "execution_count": 6,
   "metadata": {
    "id": "xguxLJ0VGH6y",
    "outputId": "2f32df14-6f5d-4800-96b5-bb8fba9c9ec0"
   },
   "outputs": [
    {
     "data": {
      "text/plain": [
       "array([[[[0]]]])"
      ]
     },
     "execution_count": 6,
     "metadata": {},
     "output_type": "execute_result"
    }
   ],
   "source": [
    "p = np.arange(1).reshape([1, 1, 1, 1])\n",
    "p"
   ]
  },
  {
   "cell_type": "code",
   "execution_count": 7,
   "metadata": {
    "id": "z1JFw75eGH6y",
    "outputId": "16e3c894-2e0e-4a5a-edd4-7a974cfa43e4"
   },
   "outputs": [
    {
     "name": "stdout",
     "output_type": "stream",
     "text": [
      "vstack:  (2, 1, 1, 1)\n",
      "hstack:  (1, 2, 1, 1)\n",
      "dstack:  (1, 1, 2, 1)\n"
     ]
    }
   ],
   "source": [
    "print(\"vstack: \", np.vstack((p, p)).shape)\n",
    "print(\"hstack: \", np.hstack((p, p)).shape)\n",
    "print(\"dstack: \", np.dstack((p, p)).shape)"
   ]
  },
  {
   "cell_type": "code",
   "execution_count": 8,
   "metadata": {
    "id": "cvbthbDDGH6z",
    "outputId": "d89430e5-8c64-4b5f-f2b3-4343f4c659ed"
   },
   "outputs": [
    {
     "data": {
      "text/plain": [
       "(1, 1, 1, 2)"
      ]
     },
     "execution_count": 8,
     "metadata": {},
     "output_type": "execute_result"
    }
   ],
   "source": [
    "np.concatenate((p, p), axis=3).shape"
   ]
  },
  {
   "cell_type": "markdown",
   "metadata": {
    "id": "-5GkuWwaGH60"
   },
   "source": [
    "Но, поскольку операция транспонирования [делает массив non-contiguous](https://numpy.org/doc/stable/user/basics.copies.html#other-operations), мы в этой задаче **запретим** ей пользоваться и порекомедуем воспользоваться, например, методом [reshape](https://numpy.org/doc/stable/reference/generated/numpy.reshape.html)."
   ]
  },
  {
   "cell_type": "markdown",
   "metadata": {
    "id": "n3ce_o75GH61"
   },
   "source": [
    "**2.** Реализуйте функцию, принимающую на вход массив целых неотрицательных чисел `nums` и возвращающую самый частый элемент массива."
   ]
  },
  {
   "cell_type": "code",
   "execution_count": 9,
   "metadata": {
    "id": "XZysMovaGH61"
   },
   "outputs": [],
   "source": [
    "def most_frequent(nums):\n",
    "    \"\"\"\n",
    "    Find the most frequent value in an array\n",
    "    :param nums: array of ints\n",
    "    :return: the most frequent value\n",
    "    \"\"\"\n",
    "    unique, counts = np.unique(nums, return_counts=True)\n",
    "    max_count_index = np.argmax(counts)\n",
    "    return unique[max_count_index]"
   ]
  },
  {
   "cell_type": "markdown",
   "metadata": {
    "id": "e6kjITZMGH62"
   },
   "source": [
    "### Переходим к работе с данными\n",
    "\n",
    "Прежде всего, загрузим данные и сделаем из них красивые pandas-таблички. Они взяты из параллели RecSys соревнования https://yandex.ru/cup/ml/. Но мы будем иметь дело не со всеми данными, а только с их частью. Данные у нас будут про заведения общественного питания (больше бюрократический терминологии!)\n",
    "\n",
    "Файлы с данными можно найти [здесь](https://disk.yandex.ru/d/YWvCNRQMb7QSQA).\n",
    "\n",
    "Задачей будет **предсказание среднего чека** (average_bill) по некоторым другим свойствам заведения."
   ]
  },
  {
   "cell_type": "code",
   "execution_count": 10,
   "metadata": {
    "id": "yJPF3OclGH62"
   },
   "outputs": [],
   "source": [
    "base = '../data/raw/chapter1/'"
   ]
  },
  {
   "cell_type": "code",
   "execution_count": 11,
   "metadata": {
    "id": "uzDIu6uXGH62"
   },
   "outputs": [],
   "source": [
    "import pandas as pd\n",
    "data = pd.read_csv(base + 'organisations.csv')\n",
    "features = pd.read_csv(base + 'features.csv')\n",
    "rubrics = pd.read_csv(base + 'rubrics.csv')"
   ]
  },
  {
   "cell_type": "markdown",
   "metadata": {
    "id": "k-AwDM7bGH63"
   },
   "source": [
    "В основном мы будем работать с табличкой `data`; остальное вам может пригодиться, если вы захотите знать, какое содержание стоит за кодами признаков."
   ]
  },
  {
   "cell_type": "markdown",
   "metadata": {
    "id": "4hrvEN_3GH63"
   },
   "source": [
    "## Изучение данных"
   ]
  },
  {
   "cell_type": "markdown",
   "metadata": {
    "id": "PI9YQMuCGH63"
   },
   "source": [
    "Посмотрите на данные. В этом вам поможет метод ``head`` pandas-таблички."
   ]
  },
  {
   "cell_type": "code",
   "execution_count": 12,
   "metadata": {
    "id": "VA_0DG29GH64"
   },
   "outputs": [
    {
     "data": {
      "text/html": [
       "<div>\n",
       "<style scoped>\n",
       "    .dataframe tbody tr th:only-of-type {\n",
       "        vertical-align: middle;\n",
       "    }\n",
       "\n",
       "    .dataframe tbody tr th {\n",
       "        vertical-align: top;\n",
       "    }\n",
       "\n",
       "    .dataframe thead th {\n",
       "        text-align: right;\n",
       "    }\n",
       "</style>\n",
       "<table border=\"1\" class=\"dataframe\">\n",
       "  <thead>\n",
       "    <tr style=\"text-align: right;\">\n",
       "      <th></th>\n",
       "      <th>org_id</th>\n",
       "      <th>city</th>\n",
       "      <th>average_bill</th>\n",
       "      <th>rating</th>\n",
       "      <th>rubrics_id</th>\n",
       "      <th>features_id</th>\n",
       "    </tr>\n",
       "  </thead>\n",
       "  <tbody>\n",
       "    <tr>\n",
       "      <th>0</th>\n",
       "      <td>15903868628669802651</td>\n",
       "      <td>msk</td>\n",
       "      <td>1500.0</td>\n",
       "      <td>4.270968</td>\n",
       "      <td>30776 30774</td>\n",
       "      <td>3501685156 3501779478 20422 3502045016 3502045...</td>\n",
       "    </tr>\n",
       "    <tr>\n",
       "      <th>1</th>\n",
       "      <td>16076540698036998306</td>\n",
       "      <td>msk</td>\n",
       "      <td>500.0</td>\n",
       "      <td>4.375000</td>\n",
       "      <td>30771</td>\n",
       "      <td>1509 1082283206 273469383 10462 11617 35017794...</td>\n",
       "    </tr>\n",
       "    <tr>\n",
       "      <th>2</th>\n",
       "      <td>8129364761615040323</td>\n",
       "      <td>msk</td>\n",
       "      <td>500.0</td>\n",
       "      <td>4.000000</td>\n",
       "      <td>31495</td>\n",
       "      <td>10462 11177 11617 11629 1416 1018 11704 11867 ...</td>\n",
       "    </tr>\n",
       "    <tr>\n",
       "      <th>3</th>\n",
       "      <td>15262729117594253452</td>\n",
       "      <td>msk</td>\n",
       "      <td>500.0</td>\n",
       "      <td>4.538813</td>\n",
       "      <td>30776 30770</td>\n",
       "      <td>3501618484 2020795524 11629 11617 1018 11704 2...</td>\n",
       "    </tr>\n",
       "    <tr>\n",
       "      <th>4</th>\n",
       "      <td>13418544315327784420</td>\n",
       "      <td>msk</td>\n",
       "      <td>500.0</td>\n",
       "      <td>4.409091</td>\n",
       "      <td>31495</td>\n",
       "      <td>11617 10462 11177 1416 11867 3501744275 20282 ...</td>\n",
       "    </tr>\n",
       "  </tbody>\n",
       "</table>\n",
       "</div>"
      ],
      "text/plain": [
       "                 org_id city  average_bill    rating   rubrics_id  \\\n",
       "0  15903868628669802651  msk        1500.0  4.270968  30776 30774   \n",
       "1  16076540698036998306  msk         500.0  4.375000        30771   \n",
       "2   8129364761615040323  msk         500.0  4.000000        31495   \n",
       "3  15262729117594253452  msk         500.0  4.538813  30776 30770   \n",
       "4  13418544315327784420  msk         500.0  4.409091        31495   \n",
       "\n",
       "                                         features_id  \n",
       "0  3501685156 3501779478 20422 3502045016 3502045...  \n",
       "1  1509 1082283206 273469383 10462 11617 35017794...  \n",
       "2  10462 11177 11617 11629 1416 1018 11704 11867 ...  \n",
       "3  3501618484 2020795524 11629 11617 1018 11704 2...  \n",
       "4  11617 10462 11177 1416 11867 3501744275 20282 ...  "
      ]
     },
     "execution_count": 12,
     "metadata": {},
     "output_type": "execute_result"
    }
   ],
   "source": [
    "data.head(5)"
   ]
  },
  {
   "cell_type": "markdown",
   "metadata": {
    "id": "GN9kZbURGH64"
   },
   "source": [
    "Полезно посмотреть внимательнее на то, с какими признаками нам предстоит работать.\n",
    "\n",
    "* **org_id** вам не понадобится;\n",
    "* **city** - город, в котором находится заведение (``msk`` или ``spb``);\n",
    "* **average_bill** - средний чек в заведении - он будет нашим таргетом;\n",
    "* **rating** - рейтинг заведения;\n",
    "* **rubrics_id** - тип заведения (или несколько типов). Соответствие кодов каким-то человекочитаемым типам живёт в табличке ``rubrics``\n",
    "* **features_id** - набор неких фичей заведения. Соответствие кодов каким-то человекочитаемым типам живёт в табличке ``features``\n",
    "\n",
    "Обратите внимание, что **rubrics_id** и **features_id** - это не списки, а разделённые пробелами строки. Когда вам захочется работать с отдельными фичами из мешка фичей для данного заведения, вам придётся всё-таки превратить их в списки (здесь поможет метод `split` для строк)."
   ]
  },
  {
   "cell_type": "markdown",
   "metadata": {
    "id": "J0IJIWz3GH64"
   },
   "source": [
    "Чтобы быстро восстанавливать по рубрикам и фичам их нормальные названия, сделайте словари вида ``код_фичи:название_фичи``"
   ]
  },
  {
   "cell_type": "code",
   "execution_count": 13,
   "metadata": {
    "id": "8KwKEKr7GH65"
   },
   "outputs": [],
   "source": [
    "feature_dict = dict(zip(features['feature_id'], features['feature_name']))\n",
    "rubric_dict = dict(zip(rubrics['rubric_id'], rubrics['rubric_name']))"
   ]
  },
  {
   "cell_type": "markdown",
   "metadata": {
    "id": "DNd4PkyQGH65"
   },
   "source": [
    "Посмотрим, какими бывают типы заведений:"
   ]
  },
  {
   "cell_type": "code",
   "execution_count": 14,
   "metadata": {
    "id": "8WhaPPEeGH65",
    "outputId": "aaf9cc8c-64ae-4bac-d8f8-6dd4d03033d8"
   },
   "outputs": [
    {
     "data": {
      "text/plain": [
       "{30519: 'Булочная, пекарня',\n",
       " 30770: 'Бар, паб',\n",
       " 30771: 'Быстрое питание',\n",
       " 30774: 'Кафе',\n",
       " 30775: 'Пиццерия',\n",
       " 30776: 'Ресторан',\n",
       " 30777: 'Столовая',\n",
       " 31286: 'Спортбар',\n",
       " 31350: 'Кондитерская',\n",
       " 31375: 'Суши-бар',\n",
       " 31401: 'Кальян-бар',\n",
       " 31495: 'Кофейня',\n",
       " 3108292683: 'Бар безалкогольных напитков',\n",
       " 3501514558: 'Фудкорт',\n",
       " 3501750896: 'Кофе с собой'}"
      ]
     },
     "execution_count": 14,
     "metadata": {},
     "output_type": "execute_result"
    }
   ],
   "source": [
    "rubric_dict"
   ]
  },
  {
   "cell_type": "markdown",
   "metadata": {
    "id": "qA6Bm_8EGH66"
   },
   "source": [
    "Мы что-то поняли про признаки, которыми нам предстоит пользоваться. Теперь время посмотреть на таргет. Вооружившись функциями ``hist`` и ``scatter`` из библиотеки ``matplotlib``, а также методом ``isna`` для pandas-таблиц разберитесь, какие значения принимают таргеты, есть ли там там выбросы, пропуски или ещё какие-то проблемы.\n",
    "\n",
    "&nbsp;\n",
    "\n",
    "<details>\n",
    "  <summary>Когда будете готовы, кликните сюда, чтобы посмотреть ответ</summary>\n",
    "    <ol>\n",
    "      <li>Среди таргетов довольно много пропусков;</li>\n",
    "      <li>Все таргеты - это числа, кратные 500;</li>\n",
    "      <li>Есть какие-то адские значения, превышающие 100 000 (видимо, выбросы);</li>\n",
    "      <li>В целом, число ресторанов с данным средним чеком быстро падает с ростом среднего чека. Для средних чеков, больших 2500, заведений уже совсем мало. Примерно у 2/3 заведений средний чек 500.</li>\n",
    "    </ol>\n",
    "</details>"
   ]
  },
  {
   "cell_type": "code",
   "execution_count": 15,
   "metadata": {},
   "outputs": [
    {
     "data": {
      "text/html": [
       "<div>\n",
       "<style scoped>\n",
       "    .dataframe tbody tr th:only-of-type {\n",
       "        vertical-align: middle;\n",
       "    }\n",
       "\n",
       "    .dataframe tbody tr th {\n",
       "        vertical-align: top;\n",
       "    }\n",
       "\n",
       "    .dataframe thead th {\n",
       "        text-align: right;\n",
       "    }\n",
       "</style>\n",
       "<table border=\"1\" class=\"dataframe\">\n",
       "  <thead>\n",
       "    <tr style=\"text-align: right;\">\n",
       "      <th></th>\n",
       "      <th>org_id</th>\n",
       "      <th>average_bill</th>\n",
       "      <th>rating</th>\n",
       "    </tr>\n",
       "  </thead>\n",
       "  <tbody>\n",
       "    <tr>\n",
       "      <th>count</th>\n",
       "      <td>6.833900e+04</td>\n",
       "      <td>3.277800e+04</td>\n",
       "      <td>54608.000000</td>\n",
       "    </tr>\n",
       "    <tr>\n",
       "      <th>mean</th>\n",
       "      <td>9.191021e+18</td>\n",
       "      <td>1.135075e+03</td>\n",
       "      <td>4.117850</td>\n",
       "    </tr>\n",
       "    <tr>\n",
       "      <th>std</th>\n",
       "      <td>5.333919e+18</td>\n",
       "      <td>4.163250e+04</td>\n",
       "      <td>0.708188</td>\n",
       "    </tr>\n",
       "    <tr>\n",
       "      <th>min</th>\n",
       "      <td>1.148366e+13</td>\n",
       "      <td>5.000000e+02</td>\n",
       "      <td>0.000000</td>\n",
       "    </tr>\n",
       "    <tr>\n",
       "      <th>25%</th>\n",
       "      <td>4.563526e+18</td>\n",
       "      <td>5.000000e+02</td>\n",
       "      <td>3.857143</td>\n",
       "    </tr>\n",
       "    <tr>\n",
       "      <th>50%</th>\n",
       "      <td>9.178503e+18</td>\n",
       "      <td>5.000000e+02</td>\n",
       "      <td>4.250000</td>\n",
       "    </tr>\n",
       "    <tr>\n",
       "      <th>75%</th>\n",
       "      <td>1.379983e+19</td>\n",
       "      <td>1.000000e+03</td>\n",
       "      <td>4.552955</td>\n",
       "    </tr>\n",
       "    <tr>\n",
       "      <th>max</th>\n",
       "      <td>1.844596e+19</td>\n",
       "      <td>7.502000e+06</td>\n",
       "      <td>5.000000</td>\n",
       "    </tr>\n",
       "  </tbody>\n",
       "</table>\n",
       "</div>"
      ],
      "text/plain": [
       "             org_id  average_bill        rating\n",
       "count  6.833900e+04  3.277800e+04  54608.000000\n",
       "mean   9.191021e+18  1.135075e+03      4.117850\n",
       "std    5.333919e+18  4.163250e+04      0.708188\n",
       "min    1.148366e+13  5.000000e+02      0.000000\n",
       "25%    4.563526e+18  5.000000e+02      3.857143\n",
       "50%    9.178503e+18  5.000000e+02      4.250000\n",
       "75%    1.379983e+19  1.000000e+03      4.552955\n",
       "max    1.844596e+19  7.502000e+06      5.000000"
      ]
     },
     "execution_count": 15,
     "metadata": {},
     "output_type": "execute_result"
    }
   ],
   "source": [
    "data.describe()"
   ]
  },
  {
   "cell_type": "code",
   "execution_count": null,
   "metadata": {
    "id": "f6bg-kmIGH66",
    "outputId": "69beeb66-b7aa-4905-bc73-59a6ab27edf3"
   },
   "outputs": [],
   "source": []
  },
  {
   "cell_type": "markdown",
   "metadata": {
    "id": "trfl5F_4GH66"
   },
   "source": [
    "**Базовая очистка данных**\n",
    "\n",
    "Раз есть треш, давайте чистить данные.\n",
    "\n",
    "С пропусками можно бороться по-разному (даже и с пропусками в таргете), но пока мы сделаем самую простую вещь: дропнем все заведения, для которых мы не знаем средний чек.\n",
    "\n",
    "Уберите из них все заведения, у которых средний чек неизвестен или превышает 2500. Пока есть опасение, что их слишком мало, чтобы мы смогли обучить на них что-нибудь.\n",
    "\n",
    "**3. Введите в Контест количество заведений, которое у вас получилось после очистки**.\n",
    "\n",
    "Дальше мы будем работать с очищенными данными."
   ]
  },
  {
   "cell_type": "code",
   "execution_count": 16,
   "metadata": {
    "id": "OxIkRsA1GH67"
   },
   "outputs": [
    {
     "data": {
      "text/html": [
       "<div>\n",
       "<style scoped>\n",
       "    .dataframe tbody tr th:only-of-type {\n",
       "        vertical-align: middle;\n",
       "    }\n",
       "\n",
       "    .dataframe tbody tr th {\n",
       "        vertical-align: top;\n",
       "    }\n",
       "\n",
       "    .dataframe thead th {\n",
       "        text-align: right;\n",
       "    }\n",
       "</style>\n",
       "<table border=\"1\" class=\"dataframe\">\n",
       "  <thead>\n",
       "    <tr style=\"text-align: right;\">\n",
       "      <th></th>\n",
       "      <th>org_id</th>\n",
       "      <th>city</th>\n",
       "      <th>average_bill</th>\n",
       "      <th>rating</th>\n",
       "      <th>rubrics_id</th>\n",
       "      <th>features_id</th>\n",
       "    </tr>\n",
       "  </thead>\n",
       "  <tbody>\n",
       "    <tr>\n",
       "      <th>0</th>\n",
       "      <td>15903868628669802651</td>\n",
       "      <td>msk</td>\n",
       "      <td>1500.0</td>\n",
       "      <td>4.270968</td>\n",
       "      <td>30776 30774</td>\n",
       "      <td>3501685156 3501779478 20422 3502045016 3502045...</td>\n",
       "    </tr>\n",
       "    <tr>\n",
       "      <th>1</th>\n",
       "      <td>16076540698036998306</td>\n",
       "      <td>msk</td>\n",
       "      <td>500.0</td>\n",
       "      <td>4.375000</td>\n",
       "      <td>30771</td>\n",
       "      <td>1509 1082283206 273469383 10462 11617 35017794...</td>\n",
       "    </tr>\n",
       "    <tr>\n",
       "      <th>2</th>\n",
       "      <td>8129364761615040323</td>\n",
       "      <td>msk</td>\n",
       "      <td>500.0</td>\n",
       "      <td>4.000000</td>\n",
       "      <td>31495</td>\n",
       "      <td>10462 11177 11617 11629 1416 1018 11704 11867 ...</td>\n",
       "    </tr>\n",
       "    <tr>\n",
       "      <th>3</th>\n",
       "      <td>15262729117594253452</td>\n",
       "      <td>msk</td>\n",
       "      <td>500.0</td>\n",
       "      <td>4.538813</td>\n",
       "      <td>30776 30770</td>\n",
       "      <td>3501618484 2020795524 11629 11617 1018 11704 2...</td>\n",
       "    </tr>\n",
       "    <tr>\n",
       "      <th>4</th>\n",
       "      <td>13418544315327784420</td>\n",
       "      <td>msk</td>\n",
       "      <td>500.0</td>\n",
       "      <td>4.409091</td>\n",
       "      <td>31495</td>\n",
       "      <td>11617 10462 11177 1416 11867 3501744275 20282 ...</td>\n",
       "    </tr>\n",
       "  </tbody>\n",
       "</table>\n",
       "</div>"
      ],
      "text/plain": [
       "                 org_id city  average_bill    rating   rubrics_id  \\\n",
       "0  15903868628669802651  msk        1500.0  4.270968  30776 30774   \n",
       "1  16076540698036998306  msk         500.0  4.375000        30771   \n",
       "2   8129364761615040323  msk         500.0  4.000000        31495   \n",
       "3  15262729117594253452  msk         500.0  4.538813  30776 30770   \n",
       "4  13418544315327784420  msk         500.0  4.409091        31495   \n",
       "\n",
       "                                         features_id  \n",
       "0  3501685156 3501779478 20422 3502045016 3502045...  \n",
       "1  1509 1082283206 273469383 10462 11617 35017794...  \n",
       "2  10462 11177 11617 11629 1416 1018 11704 11867 ...  \n",
       "3  3501618484 2020795524 11629 11617 1018 11704 2...  \n",
       "4  11617 10462 11177 1416 11867 3501744275 20282 ...  "
      ]
     },
     "execution_count": 16,
     "metadata": {},
     "output_type": "execute_result"
    }
   ],
   "source": [
    "data_na = data.dropna(subset='average_bill')\n",
    "data_clean = data_na[data_na['average_bill']<= 2500]\n",
    "data_clean.head(5)"
   ]
  },
  {
   "cell_type": "markdown",
   "metadata": {
    "id": "GsNzGAp1GH67"
   },
   "source": [
    "**4. Посчитайте и введите в Контест разность между средними арифметическими average_bill в кафе Москвы и Санкт-Петербурга. Округлите ответ до целого.**\n",
    "\n",
    "&nbsp;\n",
    "\n",
    "<details>\n",
    "  <summary>Небольшая подсказка</summary>\n",
    "  Примените часто используемый метод groupby.\n",
    "</details>"
   ]
  },
  {
   "cell_type": "code",
   "execution_count": 17,
   "metadata": {},
   "outputs": [
    {
     "data": {
      "text/html": [
       "<div>\n",
       "<style scoped>\n",
       "    .dataframe tbody tr th:only-of-type {\n",
       "        vertical-align: middle;\n",
       "    }\n",
       "\n",
       "    .dataframe tbody tr th {\n",
       "        vertical-align: top;\n",
       "    }\n",
       "\n",
       "    .dataframe thead th {\n",
       "        text-align: right;\n",
       "    }\n",
       "</style>\n",
       "<table border=\"1\" class=\"dataframe\">\n",
       "  <thead>\n",
       "    <tr style=\"text-align: right;\">\n",
       "      <th></th>\n",
       "      <th>org_id</th>\n",
       "      <th>city</th>\n",
       "      <th>average_bill</th>\n",
       "      <th>rating</th>\n",
       "      <th>rubrics_id</th>\n",
       "      <th>features_id</th>\n",
       "    </tr>\n",
       "  </thead>\n",
       "  <tbody>\n",
       "    <tr>\n",
       "      <th>0</th>\n",
       "      <td>15903868628669802651</td>\n",
       "      <td>msk</td>\n",
       "      <td>1500.0</td>\n",
       "      <td>4.270968</td>\n",
       "      <td>30776 30774</td>\n",
       "      <td>3501685156 3501779478 20422 3502045016 3502045...</td>\n",
       "    </tr>\n",
       "    <tr>\n",
       "      <th>1</th>\n",
       "      <td>16076540698036998306</td>\n",
       "      <td>msk</td>\n",
       "      <td>500.0</td>\n",
       "      <td>4.375000</td>\n",
       "      <td>30771</td>\n",
       "      <td>1509 1082283206 273469383 10462 11617 35017794...</td>\n",
       "    </tr>\n",
       "    <tr>\n",
       "      <th>2</th>\n",
       "      <td>8129364761615040323</td>\n",
       "      <td>msk</td>\n",
       "      <td>500.0</td>\n",
       "      <td>4.000000</td>\n",
       "      <td>31495</td>\n",
       "      <td>10462 11177 11617 11629 1416 1018 11704 11867 ...</td>\n",
       "    </tr>\n",
       "    <tr>\n",
       "      <th>3</th>\n",
       "      <td>15262729117594253452</td>\n",
       "      <td>msk</td>\n",
       "      <td>500.0</td>\n",
       "      <td>4.538813</td>\n",
       "      <td>30776 30770</td>\n",
       "      <td>3501618484 2020795524 11629 11617 1018 11704 2...</td>\n",
       "    </tr>\n",
       "    <tr>\n",
       "      <th>4</th>\n",
       "      <td>13418544315327784420</td>\n",
       "      <td>msk</td>\n",
       "      <td>500.0</td>\n",
       "      <td>4.409091</td>\n",
       "      <td>31495</td>\n",
       "      <td>11617 10462 11177 1416 11867 3501744275 20282 ...</td>\n",
       "    </tr>\n",
       "  </tbody>\n",
       "</table>\n",
       "</div>"
      ],
      "text/plain": [
       "                 org_id city  average_bill    rating   rubrics_id  \\\n",
       "0  15903868628669802651  msk        1500.0  4.270968  30776 30774   \n",
       "1  16076540698036998306  msk         500.0  4.375000        30771   \n",
       "2   8129364761615040323  msk         500.0  4.000000        31495   \n",
       "3  15262729117594253452  msk         500.0  4.538813  30776 30770   \n",
       "4  13418544315327784420  msk         500.0  4.409091        31495   \n",
       "\n",
       "                                         features_id  \n",
       "0  3501685156 3501779478 20422 3502045016 3502045...  \n",
       "1  1509 1082283206 273469383 10462 11617 35017794...  \n",
       "2  10462 11177 11617 11629 1416 1018 11704 11867 ...  \n",
       "3  3501618484 2020795524 11629 11617 1018 11704 2...  \n",
       "4  11617 10462 11177 1416 11867 3501744275 20282 ...  "
      ]
     },
     "execution_count": 17,
     "metadata": {},
     "output_type": "execute_result"
    }
   ],
   "source": [
    "# data_clean['rubrics_id'] = data_clean['rubrics_id'].apply(lambda x: x.split())\n",
    "# data_clean['rubrics_id'] = data_clean['rubrics_id'].apply(lambda x: [int(i) for i in x])\n",
    "data_clean.head()"
   ]
  },
  {
   "cell_type": "code",
   "execution_count": 18,
   "metadata": {
    "id": "gLdl3zVCGH67"
   },
   "outputs": [
    {
     "data": {
      "text/html": [
       "<div>\n",
       "<style scoped>\n",
       "    .dataframe tbody tr th:only-of-type {\n",
       "        vertical-align: middle;\n",
       "    }\n",
       "\n",
       "    .dataframe tbody tr th {\n",
       "        vertical-align: top;\n",
       "    }\n",
       "\n",
       "    .dataframe thead th {\n",
       "        text-align: right;\n",
       "    }\n",
       "</style>\n",
       "<table border=\"1\" class=\"dataframe\">\n",
       "  <thead>\n",
       "    <tr style=\"text-align: right;\">\n",
       "      <th></th>\n",
       "      <th>org_id</th>\n",
       "      <th>city</th>\n",
       "      <th>average_bill</th>\n",
       "      <th>rating</th>\n",
       "      <th>rubrics_id</th>\n",
       "      <th>features_id</th>\n",
       "    </tr>\n",
       "  </thead>\n",
       "  <tbody>\n",
       "    <tr>\n",
       "      <th>0</th>\n",
       "      <td>15903868628669802651</td>\n",
       "      <td>msk</td>\n",
       "      <td>1500.0</td>\n",
       "      <td>4.270968</td>\n",
       "      <td>30776 30774</td>\n",
       "      <td>3501685156 3501779478 20422 3502045016 3502045...</td>\n",
       "    </tr>\n",
       "    <tr>\n",
       "      <th>12</th>\n",
       "      <td>15212612602814703999</td>\n",
       "      <td>spb</td>\n",
       "      <td>500.0</td>\n",
       "      <td>4.500000</td>\n",
       "      <td>30777 30774 31350</td>\n",
       "      <td>10462 11177 11629 273469383 1018 11704 3501745...</td>\n",
       "    </tr>\n",
       "    <tr>\n",
       "      <th>16</th>\n",
       "      <td>17123420575086033049</td>\n",
       "      <td>spb</td>\n",
       "      <td>500.0</td>\n",
       "      <td>4.220000</td>\n",
       "      <td>30776 30774 30777</td>\n",
       "      <td>273469383 20424 1018 11704 11867 1415 20422 14...</td>\n",
       "    </tr>\n",
       "    <tr>\n",
       "      <th>20</th>\n",
       "      <td>1994626751602037958</td>\n",
       "      <td>msk</td>\n",
       "      <td>500.0</td>\n",
       "      <td>4.101695</td>\n",
       "      <td>30519 30774</td>\n",
       "      <td>20424 273469383 3501779478 20282 11704 1018 11...</td>\n",
       "    </tr>\n",
       "    <tr>\n",
       "      <th>21</th>\n",
       "      <td>10767547051640932320</td>\n",
       "      <td>msk</td>\n",
       "      <td>500.0</td>\n",
       "      <td>4.139241</td>\n",
       "      <td>30774 30771</td>\n",
       "      <td>1018 11704 11867 273469383 3501779478 20424 11...</td>\n",
       "    </tr>\n",
       "  </tbody>\n",
       "</table>\n",
       "</div>"
      ],
      "text/plain": [
       "                  org_id city  average_bill    rating         rubrics_id  \\\n",
       "0   15903868628669802651  msk        1500.0  4.270968        30776 30774   \n",
       "12  15212612602814703999  spb         500.0  4.500000  30777 30774 31350   \n",
       "16  17123420575086033049  spb         500.0  4.220000  30776 30774 30777   \n",
       "20   1994626751602037958  msk         500.0  4.101695        30519 30774   \n",
       "21  10767547051640932320  msk         500.0  4.139241        30774 30771   \n",
       "\n",
       "                                          features_id  \n",
       "0   3501685156 3501779478 20422 3502045016 3502045...  \n",
       "12  10462 11177 11629 273469383 1018 11704 3501745...  \n",
       "16  273469383 20424 1018 11704 11867 1415 20422 14...  \n",
       "20  20424 273469383 3501779478 20282 11704 1018 11...  \n",
       "21  1018 11704 11867 273469383 3501779478 20424 11...  "
      ]
     },
     "execution_count": 18,
     "metadata": {},
     "output_type": "execute_result"
    }
   ],
   "source": [
    "cafe_data = data_clean[data_clean['rubrics_id'].apply(lambda x: '30774' in x)]\n",
    "cafe_data.head()"
   ]
  },
  {
   "cell_type": "code",
   "execution_count": 19,
   "metadata": {
    "id": "gLdl3zVCGH67"
   },
   "outputs": [
    {
     "data": {
      "text/plain": [
       "org_id          7.119223e+15\n",
       "average_bill    1.164376e+02\n",
       "rating          8.189789e-03\n",
       "dtype: float64"
      ]
     },
     "execution_count": 19,
     "metadata": {},
     "output_type": "execute_result"
    }
   ],
   "source": [
    "mean_bill = data_clean.groupby(by='city').mean(numeric_only=True)\n",
    "mean_bill.loc['msk'] - mean_bill.loc['spb']"
   ]
  },
  {
   "cell_type": "code",
   "execution_count": 20,
   "metadata": {},
   "outputs": [
    {
     "data": {
      "text/plain": [
       "<Axes: title={'center': 'rating'}, xlabel='average_bill'>"
      ]
     },
     "execution_count": 20,
     "metadata": {},
     "output_type": "execute_result"
    },
    {
     "data": {
      "image/png": "[encoded data removed]",
      "text/plain": [
       "<Figure size 640x480 with 1 Axes>"
      ]
     },
     "metadata": {},
     "output_type": "display_data"
    }
   ],
   "source": [
    "data_clean.boxplot('rating', by='average_bill')"
   ]
  },
  {
   "cell_type": "code",
   "execution_count": 21,
   "metadata": {},
   "outputs": [
    {
     "data": {
      "text/plain": [
       "{30519: 'Булочная, пекарня',\n",
       " 30770: 'Бар, паб',\n",
       " 30771: 'Быстрое питание',\n",
       " 30774: 'Кафе',\n",
       " 30775: 'Пиццерия',\n",
       " 30776: 'Ресторан',\n",
       " 30777: 'Столовая',\n",
       " 31286: 'Спортбар',\n",
       " 31350: 'Кондитерская',\n",
       " 31375: 'Суши-бар',\n",
       " 31401: 'Кальян-бар',\n",
       " 31495: 'Кофейня',\n",
       " 3108292683: 'Бар безалкогольных напитков',\n",
       " 3501514558: 'Фудкорт',\n",
       " 3501750896: 'Кофе с собой'}"
      ]
     },
     "execution_count": 21,
     "metadata": {},
     "output_type": "execute_result"
    }
   ],
   "source": [
    "rubric_dict"
   ]
  },
  {
   "cell_type": "code",
   "execution_count": 22,
   "metadata": {},
   "outputs": [],
   "source": [
    "rest_data = data_clean[data_clean['rubrics_id'].apply(lambda x: '30776' in x)]\n",
    "pub_data = data_clean[data_clean['rubrics_id'].apply(lambda x: '30770' in x)]\n"
   ]
  },
  {
   "cell_type": "code",
   "execution_count": null,
   "metadata": {},
   "outputs": [],
   "source": []
  },
  {
   "cell_type": "markdown",
   "metadata": {
    "id": "Qncnmi8bGH7F"
   },
   "source": [
    "Давайте ещё немного поизучаем данные. Ответьте на вопросы:\n",
    "\n",
    "1. Есть ли разница между средними чеками в Москве и Санкт-Петербурге?\n",
    "2. Коррелирует ли средний чек с рейтингом?\n",
    "3. Есть ли разница в среднем чеке между ресторанами и пабами (см. соответствующие типы из ``rubrics``)?\n",
    "\n",
    "&nbsp;\n",
    "\n",
    "<details>\n",
    "  <summary>Когда будете готовы, кликните сюда, чтобы посмотреть ответ</summary>\n",
    "    <ol>\n",
    "      <li>В целом, да. Вы могли бы сравнить средние (в Москве больше) или медианы (они равны, потому что уж больно много где средний чек 500). Этого, конечно, мало для того, чтобы сделать вывод. Нужно проверять какие-то статические критерии, которые изучаются в курсе по статистике. Не будем останавливаться на этом подробно. Поскольку данные совсем не нормальные, никакой t-тест не сработает; мы бы предложили использовать критерий Манна-Уитни (см. википедию и функцию mannwhitneyu из библиотеки scipy.stats).</li>\n",
    "      <li>Какая-то корреляция между ними есть но уж больно неубедительная (рекомендуем построим на одном графике boxplot рейтинга по каждому значению среднего чека для визуализации). Конечно, дна становится меньше с ростом среднего чека, но, видимо, в предсказании это особо не используешь;</li>\n",
    "      <li>Несомненно, в ресторанах средний чек выше. Это и невооружённым глазом видно, и с помощью критерия Манна-Уитни можно проверить.</li>\n",
    "    </ol>\n",
    "</details>"
   ]
  },
  {
   "cell_type": "markdown",
   "metadata": {
    "id": "ATY5075lGH7F"
   },
   "source": [
    "## Формулируем задачу"
   ]
  },
  {
   "cell_type": "markdown",
   "metadata": {
    "id": "znpEgJGIGH7F"
   },
   "source": [
    "Прежде, чем решать задачу, её надо сформулировать.\n",
    "\n",
    "**Вопрос первый**: это классификация или регрессия? Подумайте над этим.\n",
    "\n",
    "&nbsp;\n",
    "\n",
    "<details>\n",
    "  <summary>Когда будете готовы, кликните сюда, чтобы посмотреть ответ</summary>\n",
    "    Ответ не столь однозначен, как хотелось бы. С одной стороны, таргет принимает всего четыре значения, и потому это может быть классификацией с 4 классами. С другой стороны, таргеты - это не абстрактные \"треугольник\", \"круг\", \"квадрат\", а вещественные числа, и когда мы вместо 500 предсказываем 2500, это явно хуже, чем вместо 1500 предсказать 2000. В целом, задачу можно решать и так, и так; мы будем смотреть на метрики обеих задач.\n",
    "</details>"
   ]
  },
  {
   "cell_type": "markdown",
   "metadata": {
    "id": "aaVuazxsGH7G"
   },
   "source": [
    "**Вопрос второй**: какие метрики мы будем использовать для оценки качества решения? Какие метрики вы предложили бы для этой задачи как для задачи классификации? А для этой задачи, как для задачи регрессии?\n",
    "\n",
    "&nbsp;\n",
    "\n",
    "<details>\n",
    "  <summary>Когда будете готовы, кликните сюда, чтобы посмотреть ответ</summary>\n",
    "    \n",
    "    Начнём с классификации. Метрика accuracy не очень хороша из-за несбалансированности классов. Действительно, классификатор, который всегда говорит 500, будет иметь accuracy примерно 0.66, хотя это никак не отражает практическую ценность модели. Как мы увидим, самая большая проблема будет заключаться в том, чтобы научиться выделять заведения с большими чеками, а их меньше всего и в accuracy они вносят самый маленький вклад. Есть разные способы с этим бороться, один -- использовать sklearn.metrics.balanced_accuracy_score. Его идея, грубо говоря, в том, чтобы по каждому классу найти, какая доля объектов этого класса правильно классифицирована, а потом эти доли усреднить. Тогда у бессмысленного классификатора, который всем ставит 500, будет скор 1/5 (ведь классов 5), а чтобы получить прежние 2/3, нужно будет научиться в каждом классе правильно ставить хотя бы 2/3 меток.    \n",
    "    \n",
    "    Теперь что касается регрессии. Основых метрики две - MSE и MAE. Из первой стоит извлекать корень, чтобы получать интерпретируемые человеком значения, а вторая менее агрессивна к выбросам (впрочем, выбросов тут уже нет, мы их все выкинули). Без дополнительной информации не очень понятно, какую выбирать, можно брать любую. А выбирать надо: ведь даже банальные модели \"предсказывай всегда среднее\" и \"предсказывай всегда медиану\" будут по-разному ранжироваться этими метриками.\n",
    "    \n",
    "</details>"
   ]
  },
  {
   "cell_type": "markdown",
   "metadata": {
    "id": "vs-jkCj-GH7G"
   },
   "source": [
    "**Вопрос третий**: а не взять ли нам какую-нибудь более экзотическую метрику? Например, MAPE (определение в учебнике в главе про оценку качества моделей). А как вам такое соображение: допустим, заказчик говорит, что пользователи будут расстраиваться, только если мы завысили средний чек - так давайте поправим MSE или MAE, обнуляя те слагаемые, для которых предсказанный таргет меньше истинного. Вот это хорошая метрика или нет?\n",
    "\n",
    "&nbsp;\n",
    "\n",
    "<details>\n",
    "  <summary>Когда будете готовы, кликните сюда, чтобы посмотреть ответ</summary>\n",
    "    \n",
    "    Что касается MAPE, у нас нет тех проблем, с которой она борется. Вот если бы у нас были средние чеки от 500 до миллиона, мы бы столкнулись с ситуацией, что большие ошибки для больших чеков доминировали бы в сумме для MSE и MAE (500 вместо 1000 меркнет по сравнению с 500к вместо миллиона). Говоря поэтически, мы бы оптимизировали модель для миллионеров, забыв про простых трудяг. И было бы логично перейти от парадигмы \"ошибаемся на 500 рублей\" к парадигме \"ошибаемся на 50%\". Но у нас все таргеты примерно одного порядка, MAPE нам особо ни к чему.\n",
    "    \n",
    "    Вторая метрика коварна тем, что её можно \"накрутить\" безо всякой пользы для дела. А именно, модель, которая всегда предсказывает средний чек в миллион, была бы идеальна. Но все бы расстраивались и не ходили есть. Другое дело, что можно ввести разные веса для ошибок в большую и в меньшую сторону, но опять же - пока нет показаний к тому, что это нужно.\n",
    "    \n",
    "</details>"
   ]
  },
  {
   "cell_type": "markdown",
   "metadata": {
    "id": "VCjV_SoAGH7G"
   },
   "source": [
    "## Применяем ML"
   ]
  },
  {
   "cell_type": "markdown",
   "metadata": {
    "id": "lqkvcLSPGH7G"
   },
   "source": [
    "Теперь время разбить данные на обучающую и тестовую выборку. Делается это с помощью функции ``train_test_split`` из пакета ``sklearn``. При этом очень важно сделать две вещи:\n",
    "\n",
    "* Зафиксировать ``random_state=42`` (да, именно этот, а то ваши модели могут не зайти в Контест), чтобы всё, что мы делаем, было воспроизводимо (иначе от перезапуска к перезапуску числа могут меняться, и мы не будем понимать, из-за чего это происходит).\n",
    "* Сделать стратификацию по таргету. В противном случае у нас в трейне и тесте могут оказаться разные пропорции классов (обычно особенно страдают мало представленные классы), что неутешительно скажется на результате.\n",
    "\n",
    "**Обратите внимание**, что если вы побьёте выборку на train и test по-другому, ваши результаты могут не зайти в контест."
   ]
  },
  {
   "cell_type": "code",
   "execution_count": 23,
   "metadata": {
    "id": "AF2IVpOjGH7H"
   },
   "outputs": [],
   "source": [
    "clean_data = data_clean\n",
    "clean_data_train, clean_data_test = train_test_split(\n",
    "    clean_data, stratify=clean_data['average_bill'], test_size=0.33, random_state=42)"
   ]
  },
  {
   "cell_type": "markdown",
   "metadata": {
    "id": "S161veFJGH7H"
   },
   "source": [
    "Теперь нам нужен **бейзлайн** - очень простая модель, с которой мы в дальнейшем будем сравниваться.\n",
    "\n",
    "Поскольку мы ещё не знаем никаких умных классов моделей, все модели мы будем писать руками. А именно, мы напишем две простых модели на основе ``sklearn.baseRegressorMixin`` и ``sklearn.base.ClassifierMixin`` (посмотрите примеры в документации sklearn и сделайте так же):\n",
    "\n",
    "* Модель для задачи регрессии, которая для всех заведений предсказывает одно число — среднее значение среднего чека;\n",
    "* Модель для задачи классификации, которая для всех заведений предсказывает один класс — самый частый класс (ироничным образом он в данном случае совпадает с медианой).\n",
    "\n",
    "**Важно!** Мы будем много раз повторять вам мантру о том, что **информация из тестовой выборки не должна протекать в процесс обучения**. Так вот, и среднее, и самый частый класс вы должны считать именно на обучающей выборке!\n",
    "\n",
    "**5 и 6. Напишите эти две модели и сдайте в Контест**. В процессе проверки модели будут и обучаться, и предсказывать.\n",
    "\n",
    "Заметим, что для этих моделей нам вообще не нужны какие-то \"фичи\"; мы работаем только с таргетом.\n",
    "\n",
    "У каждой модели есть (как минимум) два метода: `fit` (обучает модель по фичам `X` и таргету `y`) `predict` (предсказывает по фичам `X`)"
   ]
  },
  {
   "cell_type": "code",
   "execution_count": 24,
   "metadata": {
    "id": "lLz_sxtUGH7H"
   },
   "outputs": [],
   "source": [
    "from scipy.stats import mode\n",
    "\n",
    "from sklearn.base import RegressorMixin\n",
    "\n",
    "class MeanRegressor(RegressorMixin):\n",
    "    # Predicts the mean of y_train\n",
    "    def fit(self, X=None, y=None):\n",
    "        '''\n",
    "        Parameters\n",
    "        ----------\n",
    "        X : array like, shape = (n_samples, n_features)\n",
    "        Training data features\n",
    "        y : array like, shape = (_samples,)\n",
    "        Training data targets\n",
    "        '''\n",
    "        pass # YOUR CODE HERE\n",
    "\n",
    "    def predict(self, X=None):\n",
    "        '''\n",
    "        Parameters\n",
    "        ----------\n",
    "        X : array like, shape = (n_samples, n_features)\n",
    "        Data to predict\n",
    "        '''\n",
    "        pass # YOUR CODE HERE\n",
    "\n",
    "from sklearn.base import ClassifierMixin\n",
    "\n",
    "class MostFrequentClassifier(ClassifierMixin):\n",
    "    # Predicts the rounded (just in case) median of y_train\n",
    "    def fit(self, X=None, y=None):\n",
    "        '''\n",
    "        Parameters\n",
    "        ----------\n",
    "        X : array like, shape = (n_samples, n_features)\n",
    "        Training data features\n",
    "        y : array like, shape = (_samples,)\n",
    "        Training data targets\n",
    "        '''\n",
    "        pass # YOUR CODE HERE\n",
    "\n",
    "    def predict(self, X=None):\n",
    "        '''\n",
    "        Parameters\n",
    "        ----------\n",
    "        X : array like, shape = (n_samples, n_features)\n",
    "        Data to predict\n",
    "        '''\n",
    "        pass # YOUR CODE HERE"
   ]
  },
  {
   "cell_type": "code",
   "execution_count": 25,
   "metadata": {},
   "outputs": [],
   "source": [
    "from src.models.mean_regressor import MeanRegressor\n",
    "from src.models.mean_frequent_classifier import MostFrequentClassifier"
   ]
  },
  {
   "cell_type": "markdown",
   "metadata": {
    "id": "lo2pNhVoGH7I"
   },
   "source": [
    "Обучим наши модели"
   ]
  },
  {
   "cell_type": "code",
   "execution_count": 26,
   "metadata": {
    "id": "arXlaGnTGH7I"
   },
   "outputs": [],
   "source": [
    "reg = MeanRegressor()\n",
    "reg.fit(y=clean_data_train['average_bill'])\n",
    "\n",
    "clf = MostFrequentClassifier()\n",
    "clf.fit(y=clean_data_train['average_bill'])"
   ]
  },
  {
   "cell_type": "markdown",
   "metadata": {
    "id": "jJG8x0tmGH7I"
   },
   "source": [
    "Обучите модели и оцените их качество на тестовой выборке. В качестве метрик возьмём RMSE (``np.sqrt`` от ``sklearn.metrics.mean_squared_error``) и ``sklearn.metrics.balanced_accuracy_score``.\n",
    "\n",
    "Для регрессионной модели имеет смысл считать только RMSE (значения будут не кратны 500, точно мы угадывать не будем никогда), а вот для классификационной можно найти обе метрики. Сделайте это. Какая модель оказалась лучше по RMSE?"
   ]
  },
  {
   "cell_type": "code",
   "execution_count": 27,
   "metadata": {},
   "outputs": [
    {
     "name": "stdout",
     "output_type": "stream",
     "text": [
      "448.7143889551622\n",
      "514.7517402382093\n",
      "0.2\n"
     ]
    }
   ],
   "source": [
    "from sklearn.metrics import mean_squared_error\n",
    "from sklearn.metrics import balanced_accuracy_score\n",
    "import numpy as np\n",
    "def rmse(y_pred, y_true):\n",
    "    return np.sqrt(np.sum((y_pred - y_true) ** 2) / len(y_pred))\n",
    "\n",
    "y_pred_reg = reg.predict(clean_data_test['average_bill'])\n",
    "y_pred_clf = clf.predict(clean_data_test['average_bill'])\n",
    "\n",
    "print(rmse(y_pred_reg, clean_data_test['average_bill']))\n",
    "print(rmse(y_pred_clf, clean_data_test['average_bill']))\n",
    "print(balanced_accuracy_score(clean_data_test['average_bill'], y_pred_clf))"
   ]
  },
  {
   "cell_type": "markdown",
   "metadata": {
    "id": "kvZwp54sGH7J"
   },
   "source": [
    "<details>\n",
    "  <summary>Когда будете готовы, кликните сюда</summary>\n",
    "    \n",
    "  Казалось бы, регрессор никогда не угадывает, но он в каком-то смысле лучше классификатора - справедливо ли это? Возможно. Несуществующий пользователь модели вряд ли будет задавать вопросы \"почему средний чек не кратен 500?\" Ну, выдали около 800 - ок, понятно.\n",
    "    \n",
    "</details>"
   ]
  },
  {
   "cell_type": "markdown",
   "metadata": {
    "id": "V-1-O9GyGH7J"
   },
   "source": [
    "## Усложнение модели"
   ]
  },
  {
   "cell_type": "markdown",
   "metadata": {
    "id": "dGWgxl0VGH7J"
   },
   "source": [
    "Бейзлайны будут нашей отправной точкой. Строя дальнейшие модели, мы будем спрашивать себя: получилось ли лучше бейзлайна? Если нет или если не особо, то в чём смысл усложнения?"
   ]
  },
  {
   "cell_type": "markdown",
   "metadata": {
    "id": "9w3DkuuFGH7K"
   },
   "source": [
    "Начнём с использования фичи ``city``. Мы уже видели, что в разных городах и средние чеки разные. Легко проверить, что *медиана* средних чеков всё же одна и та же и в Москве, и в Санкт-Петербурге (ох уж этот вездесущий средний чек 500!), поэтому с классификатором мы ничего не сделаем. Но вот регрессор можно попробовать починить.\n",
    "\n",
    "**7. Напишите регрессор, для каждого заведения предсказывающий среднее значение в том же городе (на обучающей выборке, конечно) и сдайте его в Контест**. Вам может помочь то, что булевы `pandas` и `numpy` столбцы можно умножать на численные — в такой ситуации False работает, как ноль, а True как единица."
   ]
  },
  {
   "cell_type": "code",
   "execution_count": 28,
   "metadata": {},
   "outputs": [
    {
     "data": {
      "text/plain": [
       "677.7104465814781"
      ]
     },
     "execution_count": 28,
     "metadata": {},
     "output_type": "execute_result"
    }
   ],
   "source": [
    "clean_data_train['average_bill'].groupby(by=clean_data_train['city']).mean(numeric_only=True) # loc[['msk', 'msk', 'spb']].to_numpy()\n",
    "city_dict = (dict(zip(set(clean_data_train.to_numpy()[:,1]), range(len(set(clean_data_train.to_numpy()[:,1]))))))\n",
    "\n",
    "y = clean_data_train['average_bill'].to_numpy()\n",
    "X = clean_data_train.to_numpy()\n",
    "(y[X[:, 1]=='spb']).mean()"
   ]
  },
  {
   "cell_type": "code",
   "execution_count": 29,
   "metadata": {
    "id": "ZULQVPe2GH7K"
   },
   "outputs": [
    {
     "name": "stdout",
     "output_type": "stream",
     "text": [
      "[0. 0.]\n"
     ]
    },
    {
     "data": {
      "text/plain": [
       "<src.models.city_mean_regressor.CityMeanRegressor at 0x7c6ddbaba740>"
      ]
     },
     "execution_count": 29,
     "metadata": {},
     "output_type": "execute_result"
    }
   ],
   "source": [
    "from sklearn.base import RegressorMixin\n",
    "\n",
    "class CityMeanRegressor(RegressorMixin):\n",
    "    def fit(self, X=None, y=None):\n",
    "        pass # YOUR CODE HERE\n",
    "\n",
    "    def predict(self, X=None):\n",
    "        pass # YOUR CODE HERE\n",
    "from src.models.city_mean_regressor import CityMeanRegressor\n",
    "creg = CityMeanRegressor()\n",
    "print(creg.city_mean_value)\n",
    "creg.fit(clean_data_train, clean_data_train['average_bill'])"
   ]
  },
  {
   "cell_type": "code",
   "execution_count": 30,
   "metadata": {},
   "outputs": [
    {
     "name": "stdout",
     "output_type": "stream",
     "text": [
      "445.1063281403263\n",
      "448.7143889551622\n"
     ]
    },
    {
     "data": {
      "text/plain": [
       "array([677.71044658, 792.61119082, 792.61119082, ..., 792.61119082,\n",
       "       792.61119082, 677.71044658])"
      ]
     },
     "execution_count": 30,
     "metadata": {},
     "output_type": "execute_result"
    }
   ],
   "source": [
    "y_pred_creg = creg.predict(clean_data_test)\n",
    "print(rmse(y_pred_creg, clean_data_test['average_bill']))\n",
    "print(rmse(y_pred_reg, clean_data_test['average_bill']))\n",
    "y_pred_creg"
   ]
  },
  {
   "cell_type": "markdown",
   "metadata": {
    "id": "1EeFGk24GH7K"
   },
   "source": [
    "Обучите регрессор и сравните его по метрике RMSE с бейзлайнами. Получилось ли улучшить метрику?"
   ]
  },
  {
   "cell_type": "markdown",
   "metadata": {
    "id": "jROycei1GH7L"
   },
   "source": [
    "Лучше стало, но, правда, не очень сильно. В этот момент очень важно не просто радовать руководителя приростом в третьем знаке, но и думать о том, что происходит.\n",
    "\n",
    "Средний средний чек по Москве равен 793, в Санкт-Петербурге - 676, а в целом - 752 рубля. MSE, увы, не поможет вам ответить на вопрос, стало ли лучше пользователю, если вы ему вместо 752 рублей назвали 793. Здесь вскрывается весьма существенный порок MSE в этой задаче. Дело в том, что наш изначальный таргет делит заведения на некоторые \"ценовые категории\", и различие в средних чеках 500 и 1000 в самом деле существенно. Наверное, мы хотели бы как раз правильно предсказывать ценовые категории. Но MSE не очень помогает нам об этом судить. Дальше мы ещё подумаем, как это исправить.\n",
    "\n",
    "В любом случае, несмотря на улучшение метрики, мы пока не можем судить, стало ли по жизни лучше от усложнения модели."
   ]
  },
  {
   "cell_type": "markdown",
   "metadata": {
    "id": "wEQ9eOoWGH7L"
   },
   "source": [
    "Поручинившись немного, возьмём на вооружение другую идею. Давайте использовать типы заведений!\n",
    "\n",
    "Но с типами есть некоторая проблема: в столбце ``rubrics_id`` не всегда один идентификатор, часто их несколько, и всего комбинаций довольно много. Чтобы не возиться с малочисленными типами, давайте сольём их в один безликий ``other``.\n",
    "\n",
    "Итак, добавьте в обучающие и тестовые данные столбец ``modified_rubrics``, в котором будет то же, что и в ``rubrics_id``, если соответствующая комбинация рубрик содержит хотя бы 100 заведений из обучающей (!) выборки, и строка ``other`` в противном случае.\n",
    "\n",
    "Здесь вам поможет контейнер ``Counter`` из библиотеки ``collections``."
   ]
  },
  {
   "cell_type": "code",
   "execution_count": 31,
   "metadata": {
    "id": "uTVW5KkwGH7L"
   },
   "outputs": [],
   "source": [
    "rubrics_count = clean_data_train.groupby(by='rubrics_id').count()['average_bill']\n",
    "\n",
    "clean_data_train['rubrics_count'] = clean_data_train['rubrics_id'].apply(lambda x: rubrics_count[x] if x in rubrics_count else 0)\n",
    "clean_data_test['rubrics_count'] = clean_data_test['rubrics_id'].apply(lambda x: rubrics_count[x] if x in rubrics_count else 0)\n",
    "\n",
    "train_index = clean_data_train['rubrics_count']>=100\n",
    "clean_data_train['modified_rubrics'] = 'other'\n",
    "clean_data_train.loc[train_index, 'modified_rubrics'] = clean_data_train.loc[train_index, 'rubrics_id']\n",
    "\n",
    "test_index = clean_data_test['rubrics_count']>=100\n",
    "clean_data_test['modified_rubrics'] = 'other'\n",
    "clean_data_test.loc[test_index,'modified_rubrics'] = clean_data_test.loc[test_index, 'rubrics_id']"
   ]
  },
  {
   "cell_type": "markdown",
   "metadata": {
    "id": "nZXhpBjnGH7L"
   },
   "source": [
    "Теперь настало время написать могучий классификатор, который по заведению предсказывает медиану средних чеков среди тех в обучающей выборке, у которых с ним одинаковые `modified_rubrics` и город (вы спросите, почему медиану, а не самый частый -- спишем это на вдохновение; самый частый тоже можно брать - но медиана работает лучше).\n",
    "\n",
    "**8. Напишите классификатор и сдайте в Контест**."
   ]
  },
  {
   "cell_type": "code",
   "execution_count": 32,
   "metadata": {},
   "outputs": [],
   "source": [
    "from sklearn.base import ClassifierMixin\n",
    "import numpy as np\n",
    "\n",
    "\n",
    "class RubricCityMedianClassifier(ClassifierMixin):\n",
    "    def fit(self, X=None, y=None):\n",
    "        '''\n",
    "        Parameters\n",
    "        ----------\n",
    "        X : array like, shape = (n_samples, n_features)\n",
    "        Training data features\n",
    "        y : array like, shape = (_samples,)\n",
    "        Training data targets\n",
    "        '''\n",
    "        self.median = y.groupby(by = [X['city'], X['modified_rubrics']]).median(numeric_only=True)\n",
    "        return self\n",
    "\n",
    "    def predict(self, X=None):\n",
    "        length = len(X)\n",
    "        y_pred = np.zeros(length)\n",
    "        for i in range(length):\n",
    "            x = X.iloc[i]\n",
    "            y_pred[i] = self.median[x['city']][x['modified_rubrics']]\n",
    "        return y_pred\n",
    "    "
   ]
  },
  {
   "cell_type": "code",
   "execution_count": 33,
   "metadata": {},
   "outputs": [
    {
     "name": "stdout",
     "output_type": "stream",
     "text": [
      "0.2\n",
      "0.30552511833185647\n"
     ]
    }
   ],
   "source": [
    "rcm_cls = RubricCityMedianClassifier()\n",
    "rcm_cls.fit(clean_data_train, clean_data_train['average_bill'])\n",
    "y_pred_rcm_cls = rcm_cls.predict(clean_data_test)\n",
    "print(balanced_accuracy_score(clean_data_test['average_bill'].to_numpy(), y_pred_clf, ))\n",
    "print(balanced_accuracy_score(clean_data_test['average_bill'].to_numpy(), y_pred_rcm_cls, ))"
   ]
  },
  {
   "cell_type": "code",
   "execution_count": 34,
   "metadata": {},
   "outputs": [
    {
     "name": "stdout",
     "output_type": "stream",
     "text": [
      "393.96675836287915\n"
     ]
    }
   ],
   "source": [
    "print(rmse(y_pred_rcm_cls, clean_data_test['average_bill']))"
   ]
  },
  {
   "cell_type": "markdown",
   "metadata": {
    "id": "xbgjbwgkGH7M"
   },
   "source": [
    "Сравните обученный классификатор по метрикам RMSE и balanced_accuracy_score с нашими бейзлайнами. Получилось ли улучшить?"
   ]
  },
  {
   "cell_type": "markdown",
   "metadata": {
    "id": "UMjsnCnQGH7M"
   },
   "source": [
    "Обратите внимание что рост accuracy по сравнению с бейзлайном при этом на порядок меньше:"
   ]
  },
  {
   "cell_type": "markdown",
   "metadata": {
    "id": "K2cF0I-CGH7M"
   },
   "source": [
    "accuracy_score\n",
    "\n",
    "Predict most frequent:  0.6947666195190948\n",
    "\n",
    "Predict by rubric and city:  0.7095709570957096"
   ]
  },
  {
   "cell_type": "markdown",
   "metadata": {
    "id": "ylrAIjCcGH7N"
   },
   "source": [
    "Для диагностики напечатайте для каждого класса тестовой выборки, сколько в нём объектов и скольким из них наш классификатор приписал правильный класс. Что вы видите?\n",
    "\n",
    "&nbsp;\n",
    "\n",
    "<details>\n",
    "  <summary>Когда будете готовы, кликните сюда, чтобы посмотреть ответ</summary>\n",
    "    \n",
    "  Вы, вероятно, видите то, что мы стали однозначно лучше по сравнению с бейзлайном детектировать средний чек 1000 и 1500 (хотя всё равно не очень хорошо + ценой ухудшения качества на среднем чеке 500), а вот чеки 2000 и 2500 нам ну никак не даются.\n",
    "    \n",
    "</details>"
   ]
  },
  {
   "cell_type": "code",
   "execution_count": 35,
   "metadata": {},
   "outputs": [
    {
     "name": "stdout",
     "output_type": "stream",
     "text": [
      "              precision    recall  f1-score   support\n",
      "\n",
      "       500.0     0.8395    0.8969    0.8672      7368\n",
      "      1000.0     0.3665    0.3870    0.3764      1809\n",
      "      1500.0     0.2633    0.2438    0.2532       890\n",
      "      2000.0     0.0000    0.0000    0.0000       391\n",
      "      2500.0     0.0000    0.0000    0.0000       147\n",
      "\n",
      "    accuracy                         0.7096     10605\n",
      "   macro avg     0.2939    0.3055    0.2994     10605\n",
      "weighted avg     0.6679    0.7096    0.6880     10605\n",
      "\n",
      "              precision    recall  f1-score   support\n",
      "\n",
      "       500.0     0.6948    1.0000    0.8199      7368\n",
      "      1000.0     0.0000    0.0000    0.0000      1809\n",
      "      1500.0     0.0000    0.0000    0.0000       890\n",
      "      2000.0     0.0000    0.0000    0.0000       391\n",
      "      2500.0     0.0000    0.0000    0.0000       147\n",
      "\n",
      "    accuracy                         0.6948     10605\n",
      "   macro avg     0.1390    0.2000    0.1640     10605\n",
      "weighted avg     0.4827    0.6948    0.5696     10605\n",
      "\n"
     ]
    }
   ],
   "source": [
    "from sklearn.metrics import classification_report\n",
    "\n",
    "print(classification_report(clean_data_test['average_bill'].to_numpy(), y_pred_rcm_cls, digits=4,))\n",
    "print(classification_report(clean_data_test['average_bill'].to_numpy(), y_pred_clf, digits=4,))"
   ]
  },
  {
   "cell_type": "code",
   "execution_count": null,
   "metadata": {},
   "outputs": [],
   "source": []
  },
  {
   "cell_type": "markdown",
   "metadata": {
    "id": "9ScOy7ZvGH7N"
   },
   "source": [
    "**Кстати**. А вы понимаете, почему приведённый выше пайплайн классификации был не очень удачным с точки зрения архитектуры? Почему его было бы правильнее воплотить по-другому?\n",
    "\n",
    "&nbsp;\n",
    "\n",
    "<details>\n",
    "  <summary>Когда будете готовы, кликните сюда, чтобы посмотреть ответ</summary>\n",
    "Собственно говоря, и не было никакого пайплайна. К счастью, у нас была одна обучающая выборка, мы на ней посчитали список рубрик для modified_rubrics и радовались жизни. Но если бы нам надо было переобучать всё на новых данных, пришлось бы помнить, что их надо везде пересчитать (ведь у нас могли появиться новые рубрики с хотя бы 100 представителями). А уж никакую кросс-валидацию (кто знает - тот поймёт) с нашим подходом к делу и вовсе бы не получилось сделать без боли.\n",
    "    \n",
    "Поэтому в следующей лабораторной вы научитесь делать честные пайплайны, в которых преобразование данных, генерация фичей и обучение классификатора будут объединены в один понятный процесс, происходящий на этапе fit.\n",
    "</details>"
   ]
  },
  {
   "cell_type": "markdown",
   "metadata": {
    "id": "4ujl3tbbGH7N"
   },
   "source": [
    "## Слишком простые и слишком сложные модели"
   ]
  },
  {
   "cell_type": "markdown",
   "metadata": {
    "id": "QF7McCHsGH7N"
   },
   "source": [
    "Бейзлайны у нас слишком просты и потому не очень полезны в жизни. Но если сложность модели растёт бесконтрольно, то тоже получается плохо.\n",
    "\n",
    "Давайте рассмотрим конкретный пример. Создадим классификатор, использующий одновременно `rubrics_id` и `features_id`.\n",
    "\n",
    "Сделайте следующее:\n",
    "\n",
    "- для каждого объекта обучающей выборки сконкатенируйте строку `rubrics_id` с разделителем (например, буквой 'q') и содержимым `features_id`. Полученный столбец озаглавьте `modified_features`. Это не самый клёвый способ заиспользовать все фичи, но сейчас пока сойдёт. Причём на сей раз не будем выкидывать мало представленные значения (вся информация важна, не так ли?).\n",
    "- при этом для тестовой выборке заменяйте на строку `other` все конкатенации, которые не встретились в обучающей выборке.\n",
    "\n",
    "То есть элементы в этом столбце будут иметь вид `other` или `30776 30774 q 3502045032 11741 3502045016 1046...`."
   ]
  },
  {
   "cell_type": "code",
   "execution_count": 36,
   "metadata": {},
   "outputs": [
    {
     "data": {
      "text/html": [
       "<div>\n",
       "<style scoped>\n",
       "    .dataframe tbody tr th:only-of-type {\n",
       "        vertical-align: middle;\n",
       "    }\n",
       "\n",
       "    .dataframe tbody tr th {\n",
       "        vertical-align: top;\n",
       "    }\n",
       "\n",
       "    .dataframe thead th {\n",
       "        text-align: right;\n",
       "    }\n",
       "</style>\n",
       "<table border=\"1\" class=\"dataframe\">\n",
       "  <thead>\n",
       "    <tr style=\"text-align: right;\">\n",
       "      <th></th>\n",
       "      <th>org_id</th>\n",
       "      <th>city</th>\n",
       "      <th>average_bill</th>\n",
       "      <th>rating</th>\n",
       "      <th>rubrics_id</th>\n",
       "      <th>features_id</th>\n",
       "      <th>rubrics_count</th>\n",
       "      <th>modified_rubrics</th>\n",
       "    </tr>\n",
       "  </thead>\n",
       "  <tbody>\n",
       "    <tr>\n",
       "      <th>45769</th>\n",
       "      <td>3276960721840719260</td>\n",
       "      <td>msk</td>\n",
       "      <td>500.0</td>\n",
       "      <td>4.5</td>\n",
       "      <td>30770</td>\n",
       "      <td>11704 20422 1018 11177 1416 11867 10462</td>\n",
       "      <td>1048</td>\n",
       "      <td>30770</td>\n",
       "    </tr>\n",
       "  </tbody>\n",
       "</table>\n",
       "</div>"
      ],
      "text/plain": [
       "                    org_id city  average_bill  rating rubrics_id  \\\n",
       "45769  3276960721840719260  msk         500.0     4.5      30770   \n",
       "\n",
       "                                   features_id  rubrics_count modified_rubrics  \n",
       "45769  11704 20422 1018 11177 1416 11867 10462           1048            30770  "
      ]
     },
     "execution_count": 36,
     "metadata": {},
     "output_type": "execute_result"
    }
   ],
   "source": [
    "clean_data_train.head(1)"
   ]
  },
  {
   "cell_type": "code",
   "execution_count": 37,
   "metadata": {},
   "outputs": [],
   "source": [
    "clean_data_train['modified_features'] = clean_data_train.apply(lambda x: '{} q {}'.format(x['rubrics_id'], x['features_id']), axis=1)\n",
    "test_modified_features = clean_data_test.apply(lambda x: '{} q {}'.format(x['rubrics_id'], x['features_id']), axis=1)\n",
    "clean_data_test['modified_features'] = test_modified_features.apply(lambda x: x if x in clean_data_train['modified_features'].to_list() else 'other')"
   ]
  },
  {
   "cell_type": "code",
   "execution_count": 38,
   "metadata": {},
   "outputs": [
    {
     "data": {
      "text/plain": [
       "array([ 500., 1000., 2000., 1500., 2500.,  750., 1250., 1750.])"
      ]
     },
     "execution_count": 38,
     "metadata": {},
     "output_type": "execute_result"
    }
   ],
   "source": [
    "X = clean_data_train\n",
    "y = clean_data_train['average_bill']\n",
    "y.groupby(by = [X['modified_features']]).median().unique()\n"
   ]
  },
  {
   "cell_type": "code",
   "execution_count": 39,
   "metadata": {},
   "outputs": [
    {
     "data": {
      "text/plain": [
       "array([ 500., 1500., 1000., 2500., 2000.])"
      ]
     },
     "execution_count": 39,
     "metadata": {},
     "output_type": "execute_result"
    }
   ],
   "source": [
    "clean_data_train['average_bill'].unique()"
   ]
  },
  {
   "cell_type": "code",
   "execution_count": null,
   "metadata": {},
   "outputs": [],
   "source": []
  },
  {
   "cell_type": "code",
   "execution_count": 40,
   "metadata": {},
   "outputs": [
    {
     "data": {
      "text/plain": [
       "array([500., 500., 500., ..., 500., 500., 500.])"
      ]
     },
     "execution_count": 40,
     "metadata": {},
     "output_type": "execute_result"
    }
   ],
   "source": [
    "from sklearn.base import ClassifierMixin\n",
    "import numpy as np\n",
    "\n",
    "\n",
    "class ModifiedFuturesMedianClassifier(ClassifierMixin):\n",
    "    def fit(self, X=None, y=None):\n",
    "        '''\n",
    "        Parameters\n",
    "        ----------\n",
    "        X : array like, shape = (n_samples, n_features)\n",
    "        Training data features\n",
    "        y : array like, shape = (_samples,)\n",
    "        Training data targets\n",
    "        '''\n",
    "        self.median = y.groupby(by = [X['modified_features']]).median()\n",
    "        self.median['other'] = y.median()\n",
    "        return self\n",
    "\n",
    "    def predict(self, X=None):\n",
    "        y_pred = self.median.loc[X['modified_features']].to_numpy()\n",
    "        return y_pred\n",
    "\n",
    "mf_cls = ModifiedFuturesMedianClassifier()\n",
    "mf_cls.fit(clean_data_train, clean_data_train['average_bill'])\n",
    "y_pred_mf_cls = mf_cls.predict(clean_data_test)\n",
    "y_pred_mf_cls"
   ]
  },
  {
   "cell_type": "code",
   "execution_count": 41,
   "metadata": {},
   "outputs": [],
   "source": [
    "clean_data_test['pred'] = y_pred_mf_cls.astype('int')\n",
    "clean_data_test['pred'].to_csv('./r.csv', header=False)"
   ]
  },
  {
   "cell_type": "markdown",
   "metadata": {
    "id": "e8tNBPzVGH7O"
   },
   "source": [
    "Теперь обучите классификатор, который для заведения предсказывает медиану среднего чека по всем объектам тестовой выборки с таким же, как у него, значением `modified_features`, а если такого в обучающей выборке нет, то глобальную медиану среднего чека по всей обучающей выборке.\n",
    "\n",
    "**9. Загрузите в Контест предсказания этого классификатора на тестовой выборке**\n",
    "\n",
    "Мы ждём файла **.csv**, у которого в каждой строке будет только одно число - предсказание классификатора.\n",
    "\n",
    "Возможно, вам будет полезна библиотека ``tqdm``, позволяющая отслеживать в реальном времени, сколько времени уже крутится цикл и сколько итераций ещё осталось. Впрочем, если вы всё написали нормально, то должно работать не очень долго."
   ]
  },
  {
   "cell_type": "code",
   "execution_count": 42,
   "metadata": {},
   "outputs": [
    {
     "name": "stdout",
     "output_type": "stream",
     "text": [
      "32.4162067388783\n",
      "              precision    recall  f1-score   support\n",
      "\n",
      "       500.0     0.9995    0.9980    0.9988     14961\n",
      "       750.0     0.0000    0.0000    0.0000         0\n",
      "      1000.0     0.9967    0.9929    0.9948      3673\n",
      "      1250.0     0.0000    0.0000    0.0000         0\n",
      "      1500.0     0.9978    0.9906    0.9942      1806\n",
      "      1750.0     0.0000    0.0000    0.0000         0\n",
      "      2000.0     0.9937    0.9912    0.9924       793\n",
      "      2500.0     1.0000    0.9933    0.9966       298\n",
      "\n",
      "    accuracy                         0.9962     21531\n",
      "   macro avg     0.6235    0.6207    0.6221     21531\n",
      "weighted avg     0.9987    0.9962    0.9974     21531\n",
      "\n"
     ]
    }
   ],
   "source": [
    "print(rmse(mf_cls.predict(clean_data_train), clean_data_train['average_bill']))\n",
    "print(classification_report(clean_data_train['average_bill'], mf_cls.predict(clean_data_train), digits=4))"
   ]
  },
  {
   "cell_type": "code",
   "execution_count": 43,
   "metadata": {},
   "outputs": [
    {
     "name": "stdout",
     "output_type": "stream",
     "text": [
      "513.9898108867789\n",
      "0.2010249213051401\n"
     ]
    }
   ],
   "source": [
    "print(rmse(y_pred_mf_cls, clean_data_test['average_bill']))\n",
    "print(balanced_accuracy_score(clean_data_test['average_bill'], y_pred_mf_cls))"
   ]
  },
  {
   "cell_type": "markdown",
   "metadata": {
    "id": "_XrswPW4GH7O"
   },
   "source": [
    "Модель, очевидно, очень сложная. Число параметров (различных категорий) в ней сопоставимо с числом объектов в обучающей выборке. А получилось ли хорошо?\n",
    "\n",
    "Давайте посчитаем RMSE и balanced_accuracy_score на обучающей и на тестовой выборках.\n",
    "\n",
    "**10. Введите их в Контест**"
   ]
  },
  {
   "cell_type": "markdown",
   "metadata": {
    "id": "fGDTpxFgGH7O"
   },
   "source": [
    "Налицо переобучение: на трейне метрики отличные, на тесте - вообще никакие\n",
    "\n",
    "В общем, не гонитесь за чрезмерной сложностью модели.."
   ]
  },
  {
   "cell_type": "markdown",
   "metadata": {
    "id": "YTU2yubYGH7O"
   },
   "source": [
    "## ML без данных что компутер без электричества"
   ]
  },
  {
   "cell_type": "markdown",
   "metadata": {
    "id": "DBVOCVf2GH7P"
   },
   "source": [
    "Возможно, вы смотрите на полученные выше результаты и думаете: вот если бы мы не какие-то убогие медианы предсказывали, а гоняли бы нейросети, то тут-то бы всё и получилось!\n",
    "\n",
    "Но, увы, совсем даже не всегда от счастья нас отделяет выбор хорошей модели (и стратегии обучения). Если данные не очень, то даже самая крутая модель не сработает. В этой ситуации нужно либо добывать новые фичи каким-то образом, либо собирать новые данные (увеличивать датасет), либо просто бросать задачу.\n",
    "\n",
    "Давайте посмотрим, что выжмет из наших данных одна из самых мощных моделей для табличных данных - градиентный бустинг на решающих деревьях в исполнении [CatBoost](https://catboost.ai/)."
   ]
  },
  {
   "cell_type": "markdown",
   "metadata": {
    "id": "a0L4UmzSGH7P"
   },
   "source": [
    "Но прежде, чем сделать fit, нам надо облагородить данные. Несмотря на то, что CatBoost отлично работает с категориальными фичами, мешок признаков из `rubrics_id` или `features_id` может ему оказаться не по зубам. Поэтому мы соберём датасет в пристойную матрицу, создав для каждого типа рубрик и фичей отдельный столбец и записав там единицы для тех объектов, у которых эта рубрика или фича имеет место.\n",
    "\n",
    "В матрице почти все элементы будут нулями. Такие матрицы считаются **разреженными** и их можно хранить гораздо эффективней, чем просто таблицей. Этим и займёмся)"
   ]
  },
  {
   "cell_type": "markdown",
   "metadata": {
    "id": "IJKuMtNbGH7P"
   },
   "source": [
    "Есть несколько форматов хранения разреженных матриц (многие из них реализованы в [пакете sparse библиотеки scipy](https://docs.scipy.org/doc/scipy/reference/sparse.html)), и каждый пригоден для чего-то своего.\n",
    "\n",
    "Создавать разреженную матрицу лучше в [формате COO](https://docs.scipy.org/doc/scipy/reference/generated/scipy.sparse.coo_array.html#scipy.sparse.coo_array). Он предполагает, что разреженная матрица задаётся в виде трёх списков: `row`, `col`, `data`, причём каждая тройка `(row[i], col[i], data[i])` кодирует элемент со значением `data[i]`, стоящий на позиции `(row[i], col[i])`. Считается, что на позициях `(row, col)`, которые ни разу не встретились, стоят нули.\n",
    "\n",
    "Нетрудно видеть, что заполнять такую матрицу - одно удовольствие, и особенно этому помогает тот факт, что **пара `(row, col)` может встретиться несколько раз** (тогда в итоговой матрице на соответствующей позиции стоит сумма соответствующих `data[i]`). Но, с другой стороны, почти ничего другого с такой матрицей не сделаешь: произвольного доступа к элементам она не предоставляет, умножить её тоже особо ничего не умножишь. Поэтому для дальнейшего использования созданную таким образом матрицу преобразуют в один из более удобных форматов, например, [CSR (compressed sparse row)](https://scipy-lectures.org/advanced/scipy_sparse/csr_matrix.html). Он, к примеру, хорошо подходит для умножения на вектор (потому что матрица хранится по строкам). Не будем разбирать его подробно, но можете почитать по ссылке, если интересно."
   ]
  },
  {
   "cell_type": "markdown",
   "metadata": {
    "id": "2hd_Sob3GH7P"
   },
   "source": [
    "Вам нужно будет превратить обучающие и тестовые данные в разреженные матрицы `sparse_data_train` и `sparse_data_test` соответственно, таким образом, что:\n",
    "\n",
    "- столбец `city` превратится в столбец из единиц и нулей (например, 1 - Москва, 0 - Питер);\n",
    "- столбец `rating` перекочует в разреженные матрицы без изменений;\n",
    "- каждый типы рубрик и каждая фича превратятся в отдельный 0-1-принак;\n",
    "\n",
    "В тестовой выборке будут фичи, которых в обучающей выборке не было. С ними можно по-разному работать, но давайте создадим дополнительную фантомную фичу `feature_other`, в которой будет то, сколько неизвестных по обучающей выборке фичей есть у данного объекта."
   ]
  },
  {
   "cell_type": "code",
   "execution_count": 115,
   "metadata": {
    "id": "7-UAatGJGH7P"
   },
   "outputs": [],
   "source": [
    "train_rubrics_set = set()\n",
    "train_features_set = set()\n",
    "for i  in range(clean_data_train.shape[0]):\n",
    "    train_rubrics_set = train_rubrics_set | set(clean_data_train.loc[i, 'rubrics_id'].split())\n",
    "    train_features_set = train_features_set | set(clean_data_train.loc[i, 'features_id'].split())\n",
    "\n",
    "all_features_list = ['city', 'rating', 'feature_other'] + list(train_rubrics_set) + list(train_features_set)"
   ]
  },
  {
   "cell_type": "code",
   "execution_count": 127,
   "metadata": {},
   "outputs": [
    {
     "data": {
      "text/html": [
       "<div>\n",
       "<style scoped>\n",
       "    .dataframe tbody tr th:only-of-type {\n",
       "        vertical-align: middle;\n",
       "    }\n",
       "\n",
       "    .dataframe tbody tr th {\n",
       "        vertical-align: top;\n",
       "    }\n",
       "\n",
       "    .dataframe thead th {\n",
       "        text-align: right;\n",
       "    }\n",
       "</style>\n",
       "<table border=\"1\" class=\"dataframe\">\n",
       "  <thead>\n",
       "    <tr style=\"text-align: right;\">\n",
       "      <th></th>\n",
       "      <th>level_0</th>\n",
       "      <th>index</th>\n",
       "      <th>org_id</th>\n",
       "      <th>city</th>\n",
       "      <th>average_bill</th>\n",
       "      <th>rating</th>\n",
       "      <th>rubrics_id</th>\n",
       "      <th>features_id</th>\n",
       "      <th>rubrics_count</th>\n",
       "      <th>modified_rubrics</th>\n",
       "      <th>modified_features</th>\n",
       "    </tr>\n",
       "  </thead>\n",
       "  <tbody>\n",
       "    <tr>\n",
       "      <th>0</th>\n",
       "      <td>0</td>\n",
       "      <td>45769</td>\n",
       "      <td>3276960721840719260</td>\n",
       "      <td>msk</td>\n",
       "      <td>500.0</td>\n",
       "      <td>4.5</td>\n",
       "      <td>30770</td>\n",
       "      <td>11704 20422 1018 11177 1416 11867 10462</td>\n",
       "      <td>1048</td>\n",
       "      <td>30770</td>\n",
       "      <td>30770 q 11704 20422 1018 11177 1416 11867 10462</td>\n",
       "    </tr>\n",
       "  </tbody>\n",
       "</table>\n",
       "</div>"
      ],
      "text/plain": [
       "   level_0  index               org_id city  average_bill  rating rubrics_id  \\\n",
       "0        0  45769  3276960721840719260  msk         500.0     4.5      30770   \n",
       "\n",
       "                               features_id  rubrics_count modified_rubrics  \\\n",
       "0  11704 20422 1018 11177 1416 11867 10462           1048            30770   \n",
       "\n",
       "                                 modified_features  \n",
       "0  30770 q 11704 20422 1018 11177 1416 11867 10462  "
      ]
     },
     "execution_count": 127,
     "metadata": {},
     "output_type": "execute_result"
    }
   ],
   "source": [
    "clean_data_train.head(1)"
   ]
  },
  {
   "cell_type": "code",
   "execution_count": 151,
   "metadata": {},
   "outputs": [],
   "source": [
    "from scipy.sparse import coo_matrix\n",
    "def sparse_array_create(data_table, all_features_list):\n",
    "    row, col, data = [], [], []\n",
    "    for ind in range(data_table.shape[0]):\n",
    "        d_row = clean_data_train.iloc[ind]\n",
    "    \n",
    "        # city, msk = 1\n",
    "        if d_row['city'] == 'msk':\n",
    "            row.append(ind)\n",
    "            col.append(all_features_list.index('city'))\n",
    "            data.append(1)\n",
    "    \n",
    "        # rating\n",
    "        row.append(ind)\n",
    "        col.append(all_features_list.index('rating'))\n",
    "        data.append(d_row['rating'])\n",
    "\n",
    "        # rubrics\n",
    "        for rubric in d_row['rubrics_id'].split():\n",
    "            if rubric in all_features_list:\n",
    "                row.append(ind)\n",
    "                col.append(all_features_list.index(rubric))\n",
    "                data.append(1)\n",
    "            else:\n",
    "                row.append(ind)\n",
    "                col.append(all_features_list.index('feature_other'))\n",
    "                data.append(1)\n",
    "\n",
    "        # features\n",
    "        for feature in d_row['features_id'].split():\n",
    "            if feature in all_features_list:\n",
    "                row.append(ind)\n",
    "                col.append(all_features_list.index(feature))\n",
    "                data.append(1)\n",
    "            else:\n",
    "                row.append(ind)\n",
    "                col.append(all_features_list.index('feature_other'))\n",
    "                data.append(1)\n",
    "\n",
    "    return coo_matrix((data, (row, col))).tocsr()\n",
    "\n",
    "\n",
    "sparse_data_train = sparse_array_create(clean_data_train, all_features_list)\n",
    "sparse_data_test = sparse_array_create(clean_data_test, all_features_list)"
   ]
  },
  {
   "cell_type": "code",
   "execution_count": 152,
   "metadata": {},
   "outputs": [
    {
     "data": {
      "text/plain": [
       "scipy.sparse._csr.csr_matrix"
      ]
     },
     "execution_count": 152,
     "metadata": {},
     "output_type": "execute_result"
    }
   ],
   "source": [
    "type(sparse_data_train)"
   ]
  },
  {
   "cell_type": "markdown",
   "metadata": {
    "id": "lFfj-1E4GH7Q"
   },
   "source": [
    "Данные готовы, и теперь можно запустить катбуст"
   ]
  },
  {
   "cell_type": "code",
   "execution_count": 153,
   "metadata": {
    "id": "m2lP5NouGH7Q"
   },
   "outputs": [],
   "source": [
    "from catboost import CatBoostClassifier"
   ]
  },
  {
   "cell_type": "code",
   "execution_count": 170,
   "metadata": {
    "id": "jpW6uR0oGH7Q",
    "scrolled": true
   },
   "outputs": [
    {
     "name": "stdout",
     "output_type": "stream",
     "text": [
      "Learning rate set to 0.092536\n",
      "0:\tlearn: 1.4312559\ttotal: 19.1ms\tremaining: 19.1s\n",
      "1:\tlearn: 1.3127441\ttotal: 33ms\tremaining: 16.5s\n",
      "2:\tlearn: 1.2207973\ttotal: 45.2ms\tremaining: 15s\n",
      "3:\tlearn: 1.1533187\ttotal: 56.4ms\tremaining: 14.1s\n",
      "4:\tlearn: 1.0947614\ttotal: 68.6ms\tremaining: 13.6s\n",
      "5:\tlearn: 1.0423564\ttotal: 81.4ms\tremaining: 13.5s\n",
      "6:\tlearn: 1.0021957\ttotal: 93.5ms\tremaining: 13.3s\n",
      "7:\tlearn: 0.9673576\ttotal: 106ms\tremaining: 13.2s\n",
      "8:\tlearn: 0.9356468\ttotal: 118ms\tremaining: 13s\n",
      "9:\tlearn: 0.9098990\ttotal: 130ms\tremaining: 12.9s\n",
      "10:\tlearn: 0.8866365\ttotal: 143ms\tremaining: 12.8s\n",
      "11:\tlearn: 0.8648817\ttotal: 155ms\tremaining: 12.7s\n",
      "12:\tlearn: 0.8489217\ttotal: 167ms\tremaining: 12.7s\n",
      "13:\tlearn: 0.8346911\ttotal: 179ms\tremaining: 12.6s\n",
      "14:\tlearn: 0.8194892\ttotal: 191ms\tremaining: 12.6s\n",
      "15:\tlearn: 0.8054689\ttotal: 204ms\tremaining: 12.6s\n",
      "16:\tlearn: 0.7938435\ttotal: 217ms\tremaining: 12.6s\n",
      "17:\tlearn: 0.7848849\ttotal: 229ms\tremaining: 12.5s\n",
      "18:\tlearn: 0.7738781\ttotal: 241ms\tremaining: 12.5s\n",
      "19:\tlearn: 0.7657091\ttotal: 254ms\tremaining: 12.4s\n",
      "20:\tlearn: 0.7567947\ttotal: 266ms\tremaining: 12.4s\n",
      "21:\tlearn: 0.7497002\ttotal: 278ms\tremaining: 12.3s\n",
      "22:\tlearn: 0.7443728\ttotal: 289ms\tremaining: 12.3s\n",
      "23:\tlearn: 0.7399735\ttotal: 301ms\tremaining: 12.2s\n",
      "24:\tlearn: 0.7336139\ttotal: 312ms\tremaining: 12.2s\n",
      "25:\tlearn: 0.7284867\ttotal: 324ms\tremaining: 12.1s\n",
      "26:\tlearn: 0.7249252\ttotal: 333ms\tremaining: 12s\n",
      "27:\tlearn: 0.7205177\ttotal: 344ms\tremaining: 11.9s\n",
      "28:\tlearn: 0.7158113\ttotal: 355ms\tremaining: 11.9s\n",
      "29:\tlearn: 0.7119981\ttotal: 367ms\tremaining: 11.9s\n",
      "30:\tlearn: 0.7080329\ttotal: 379ms\tremaining: 11.8s\n",
      "31:\tlearn: 0.7060636\ttotal: 391ms\tremaining: 11.8s\n",
      "32:\tlearn: 0.7025731\ttotal: 403ms\tremaining: 11.8s\n",
      "33:\tlearn: 0.6990465\ttotal: 416ms\tremaining: 11.8s\n",
      "34:\tlearn: 0.6975293\ttotal: 426ms\tremaining: 11.8s\n",
      "35:\tlearn: 0.6948685\ttotal: 438ms\tremaining: 11.7s\n",
      "36:\tlearn: 0.6920386\ttotal: 450ms\tremaining: 11.7s\n",
      "37:\tlearn: 0.6899428\ttotal: 462ms\tremaining: 11.7s\n",
      "38:\tlearn: 0.6879486\ttotal: 474ms\tremaining: 11.7s\n",
      "39:\tlearn: 0.6861796\ttotal: 485ms\tremaining: 11.6s\n",
      "40:\tlearn: 0.6846706\ttotal: 497ms\tremaining: 11.6s\n",
      "41:\tlearn: 0.6833726\ttotal: 507ms\tremaining: 11.6s\n",
      "42:\tlearn: 0.6815749\ttotal: 519ms\tremaining: 11.5s\n",
      "43:\tlearn: 0.6790554\ttotal: 531ms\tremaining: 11.5s\n",
      "44:\tlearn: 0.6774072\ttotal: 544ms\tremaining: 11.5s\n",
      "45:\tlearn: 0.6758424\ttotal: 555ms\tremaining: 11.5s\n",
      "46:\tlearn: 0.6745118\ttotal: 567ms\tremaining: 11.5s\n",
      "47:\tlearn: 0.6742089\ttotal: 578ms\tremaining: 11.5s\n",
      "48:\tlearn: 0.6728684\ttotal: 589ms\tremaining: 11.4s\n",
      "49:\tlearn: 0.6722057\ttotal: 602ms\tremaining: 11.4s\n",
      "50:\tlearn: 0.6709035\ttotal: 613ms\tremaining: 11.4s\n",
      "51:\tlearn: 0.6696331\ttotal: 625ms\tremaining: 11.4s\n",
      "52:\tlearn: 0.6685447\ttotal: 636ms\tremaining: 11.4s\n",
      "53:\tlearn: 0.6672168\ttotal: 648ms\tremaining: 11.3s\n",
      "54:\tlearn: 0.6663785\ttotal: 659ms\tremaining: 11.3s\n",
      "55:\tlearn: 0.6649949\ttotal: 670ms\tremaining: 11.3s\n",
      "56:\tlearn: 0.6644756\ttotal: 681ms\tremaining: 11.3s\n",
      "57:\tlearn: 0.6630109\ttotal: 692ms\tremaining: 11.2s\n",
      "58:\tlearn: 0.6628972\ttotal: 703ms\tremaining: 11.2s\n",
      "59:\tlearn: 0.6621110\ttotal: 715ms\tremaining: 11.2s\n",
      "60:\tlearn: 0.6605405\ttotal: 726ms\tremaining: 11.2s\n",
      "61:\tlearn: 0.6589522\ttotal: 738ms\tremaining: 11.2s\n",
      "62:\tlearn: 0.6573781\ttotal: 751ms\tremaining: 11.2s\n",
      "63:\tlearn: 0.6568397\ttotal: 762ms\tremaining: 11.1s\n",
      "64:\tlearn: 0.6560919\ttotal: 774ms\tremaining: 11.1s\n",
      "65:\tlearn: 0.6551401\ttotal: 785ms\tremaining: 11.1s\n",
      "66:\tlearn: 0.6548635\ttotal: 796ms\tremaining: 11.1s\n",
      "67:\tlearn: 0.6545863\ttotal: 808ms\tremaining: 11.1s\n",
      "68:\tlearn: 0.6539254\ttotal: 819ms\tremaining: 11.1s\n",
      "69:\tlearn: 0.6538738\ttotal: 830ms\tremaining: 11s\n",
      "70:\tlearn: 0.6536855\ttotal: 841ms\tremaining: 11s\n",
      "71:\tlearn: 0.6531329\ttotal: 852ms\tremaining: 11s\n",
      "72:\tlearn: 0.6526102\ttotal: 863ms\tremaining: 11s\n",
      "73:\tlearn: 0.6516713\ttotal: 872ms\tremaining: 10.9s\n",
      "74:\tlearn: 0.6510566\ttotal: 883ms\tremaining: 10.9s\n",
      "75:\tlearn: 0.6506141\ttotal: 894ms\tremaining: 10.9s\n",
      "76:\tlearn: 0.6497791\ttotal: 906ms\tremaining: 10.9s\n",
      "77:\tlearn: 0.6493439\ttotal: 916ms\tremaining: 10.8s\n",
      "78:\tlearn: 0.6489661\ttotal: 927ms\tremaining: 10.8s\n",
      "79:\tlearn: 0.6485500\ttotal: 938ms\tremaining: 10.8s\n",
      "80:\tlearn: 0.6478606\ttotal: 950ms\tremaining: 10.8s\n",
      "81:\tlearn: 0.6475269\ttotal: 961ms\tremaining: 10.8s\n",
      "82:\tlearn: 0.6472155\ttotal: 973ms\tremaining: 10.7s\n",
      "83:\tlearn: 0.6452917\ttotal: 985ms\tremaining: 10.7s\n",
      "84:\tlearn: 0.6452648\ttotal: 996ms\tremaining: 10.7s\n",
      "85:\tlearn: 0.6449196\ttotal: 1.01s\tremaining: 10.7s\n",
      "86:\tlearn: 0.6444581\ttotal: 1.02s\tremaining: 10.7s\n",
      "87:\tlearn: 0.6440931\ttotal: 1.03s\tremaining: 10.7s\n",
      "88:\tlearn: 0.6437183\ttotal: 1.04s\tremaining: 10.7s\n",
      "89:\tlearn: 0.6436119\ttotal: 1.05s\tremaining: 10.7s\n",
      "90:\tlearn: 0.6435353\ttotal: 1.06s\tremaining: 10.6s\n",
      "91:\tlearn: 0.6427434\ttotal: 1.08s\tremaining: 10.6s\n",
      "92:\tlearn: 0.6424579\ttotal: 1.09s\tremaining: 10.6s\n",
      "93:\tlearn: 0.6422702\ttotal: 1.1s\tremaining: 10.6s\n",
      "94:\tlearn: 0.6420542\ttotal: 1.11s\tremaining: 10.6s\n",
      "95:\tlearn: 0.6416159\ttotal: 1.12s\tremaining: 10.5s\n",
      "96:\tlearn: 0.6413155\ttotal: 1.13s\tremaining: 10.5s\n",
      "97:\tlearn: 0.6411888\ttotal: 1.14s\tremaining: 10.5s\n",
      "98:\tlearn: 0.6407419\ttotal: 1.15s\tremaining: 10.5s\n",
      "99:\tlearn: 0.6404062\ttotal: 1.16s\tremaining: 10.5s\n",
      "100:\tlearn: 0.6397445\ttotal: 1.17s\tremaining: 10.4s\n",
      "101:\tlearn: 0.6391988\ttotal: 1.18s\tremaining: 10.4s\n",
      "102:\tlearn: 0.6391624\ttotal: 1.19s\tremaining: 10.4s\n",
      "103:\tlearn: 0.6389692\ttotal: 1.21s\tremaining: 10.4s\n",
      "104:\tlearn: 0.6386756\ttotal: 1.22s\tremaining: 10.4s\n",
      "105:\tlearn: 0.6378011\ttotal: 1.23s\tremaining: 10.4s\n",
      "106:\tlearn: 0.6369512\ttotal: 1.24s\tremaining: 10.4s\n",
      "107:\tlearn: 0.6366562\ttotal: 1.25s\tremaining: 10.3s\n",
      "108:\tlearn: 0.6357634\ttotal: 1.26s\tremaining: 10.3s\n",
      "109:\tlearn: 0.6351166\ttotal: 1.27s\tremaining: 10.3s\n",
      "110:\tlearn: 0.6347493\ttotal: 1.29s\tremaining: 10.3s\n",
      "111:\tlearn: 0.6342523\ttotal: 1.3s\tremaining: 10.3s\n",
      "112:\tlearn: 0.6337653\ttotal: 1.31s\tremaining: 10.3s\n",
      "113:\tlearn: 0.6335366\ttotal: 1.32s\tremaining: 10.3s\n",
      "114:\tlearn: 0.6333287\ttotal: 1.33s\tremaining: 10.3s\n",
      "115:\tlearn: 0.6324458\ttotal: 1.34s\tremaining: 10.2s\n",
      "116:\tlearn: 0.6321278\ttotal: 1.35s\tremaining: 10.2s\n",
      "117:\tlearn: 0.6319426\ttotal: 1.36s\tremaining: 10.2s\n",
      "118:\tlearn: 0.6314591\ttotal: 1.38s\tremaining: 10.2s\n",
      "119:\tlearn: 0.6311279\ttotal: 1.39s\tremaining: 10.2s\n",
      "120:\tlearn: 0.6308740\ttotal: 1.4s\tremaining: 10.2s\n",
      "121:\tlearn: 0.6303441\ttotal: 1.41s\tremaining: 10.2s\n",
      "122:\tlearn: 0.6295477\ttotal: 1.42s\tremaining: 10.2s\n",
      "123:\tlearn: 0.6288290\ttotal: 1.44s\tremaining: 10.1s\n",
      "124:\tlearn: 0.6287032\ttotal: 1.45s\tremaining: 10.1s\n",
      "125:\tlearn: 0.6280464\ttotal: 1.46s\tremaining: 10.1s\n",
      "126:\tlearn: 0.6277944\ttotal: 1.47s\tremaining: 10.1s\n",
      "127:\tlearn: 0.6271002\ttotal: 1.48s\tremaining: 10.1s\n",
      "128:\tlearn: 0.6268110\ttotal: 1.49s\tremaining: 10.1s\n",
      "129:\tlearn: 0.6262878\ttotal: 1.5s\tremaining: 10.1s\n",
      "130:\tlearn: 0.6257294\ttotal: 1.52s\tremaining: 10.1s\n",
      "131:\tlearn: 0.6256026\ttotal: 1.53s\tremaining: 10s\n",
      "132:\tlearn: 0.6250739\ttotal: 1.54s\tremaining: 10s\n",
      "133:\tlearn: 0.6245752\ttotal: 1.55s\tremaining: 10s\n",
      "134:\tlearn: 0.6238998\ttotal: 1.56s\tremaining: 10s\n",
      "135:\tlearn: 0.6233002\ttotal: 1.57s\tremaining: 10s\n",
      "136:\tlearn: 0.6228854\ttotal: 1.59s\tremaining: 9.99s\n",
      "137:\tlearn: 0.6223851\ttotal: 1.6s\tremaining: 9.98s\n",
      "138:\tlearn: 0.6222430\ttotal: 1.61s\tremaining: 9.97s\n",
      "139:\tlearn: 0.6216143\ttotal: 1.62s\tremaining: 9.96s\n",
      "140:\tlearn: 0.6212789\ttotal: 1.63s\tremaining: 9.95s\n",
      "141:\tlearn: 0.6208522\ttotal: 1.65s\tremaining: 9.94s\n",
      "142:\tlearn: 0.6206134\ttotal: 1.66s\tremaining: 9.93s\n",
      "143:\tlearn: 0.6200329\ttotal: 1.67s\tremaining: 9.92s\n",
      "144:\tlearn: 0.6197261\ttotal: 1.68s\tremaining: 9.9s\n",
      "145:\tlearn: 0.6194580\ttotal: 1.69s\tremaining: 9.89s\n",
      "146:\tlearn: 0.6193234\ttotal: 1.7s\tremaining: 9.88s\n",
      "147:\tlearn: 0.6190970\ttotal: 1.71s\tremaining: 9.87s\n",
      "148:\tlearn: 0.6188739\ttotal: 1.73s\tremaining: 9.86s\n",
      "149:\tlearn: 0.6185799\ttotal: 1.74s\tremaining: 9.85s\n",
      "150:\tlearn: 0.6184275\ttotal: 1.75s\tremaining: 9.83s\n",
      "151:\tlearn: 0.6181664\ttotal: 1.76s\tremaining: 9.82s\n",
      "152:\tlearn: 0.6174276\ttotal: 1.77s\tremaining: 9.81s\n",
      "153:\tlearn: 0.6173136\ttotal: 1.78s\tremaining: 9.79s\n",
      "154:\tlearn: 0.6165586\ttotal: 1.79s\tremaining: 9.79s\n",
      "155:\tlearn: 0.6164806\ttotal: 1.8s\tremaining: 9.77s\n",
      "156:\tlearn: 0.6163245\ttotal: 1.82s\tremaining: 9.76s\n",
      "157:\tlearn: 0.6162806\ttotal: 1.83s\tremaining: 9.74s\n",
      "158:\tlearn: 0.6157345\ttotal: 1.84s\tremaining: 9.74s\n",
      "159:\tlearn: 0.6156469\ttotal: 1.85s\tremaining: 9.72s\n",
      "160:\tlearn: 0.6153480\ttotal: 1.86s\tremaining: 9.71s\n",
      "161:\tlearn: 0.6149028\ttotal: 1.88s\tremaining: 9.7s\n",
      "162:\tlearn: 0.6145901\ttotal: 1.89s\tremaining: 9.69s\n",
      "163:\tlearn: 0.6144856\ttotal: 1.9s\tremaining: 9.68s\n",
      "164:\tlearn: 0.6142173\ttotal: 1.91s\tremaining: 9.66s\n",
      "165:\tlearn: 0.6138060\ttotal: 1.92s\tremaining: 9.66s\n",
      "166:\tlearn: 0.6137056\ttotal: 1.93s\tremaining: 9.65s\n",
      "167:\tlearn: 0.6133577\ttotal: 1.95s\tremaining: 9.64s\n",
      "168:\tlearn: 0.6130650\ttotal: 1.96s\tremaining: 9.63s\n",
      "169:\tlearn: 0.6124680\ttotal: 1.97s\tremaining: 9.63s\n",
      "170:\tlearn: 0.6122520\ttotal: 1.98s\tremaining: 9.62s\n",
      "171:\tlearn: 0.6121792\ttotal: 2s\tremaining: 9.61s\n",
      "172:\tlearn: 0.6120172\ttotal: 2.01s\tremaining: 9.61s\n",
      "173:\tlearn: 0.6114195\ttotal: 2.02s\tremaining: 9.6s\n",
      "174:\tlearn: 0.6113950\ttotal: 2.04s\tremaining: 9.59s\n",
      "175:\tlearn: 0.6111587\ttotal: 2.05s\tremaining: 9.58s\n",
      "176:\tlearn: 0.6111369\ttotal: 2.06s\tremaining: 9.57s\n",
      "177:\tlearn: 0.6109635\ttotal: 2.07s\tremaining: 9.56s\n",
      "178:\tlearn: 0.6107304\ttotal: 2.08s\tremaining: 9.55s\n",
      "179:\tlearn: 0.6106894\ttotal: 2.09s\tremaining: 9.54s\n",
      "180:\tlearn: 0.6105775\ttotal: 2.1s\tremaining: 9.53s\n",
      "181:\tlearn: 0.6104803\ttotal: 2.12s\tremaining: 9.52s\n",
      "182:\tlearn: 0.6101987\ttotal: 2.13s\tremaining: 9.51s\n",
      "183:\tlearn: 0.6100868\ttotal: 2.14s\tremaining: 9.49s\n",
      "184:\tlearn: 0.6097658\ttotal: 2.15s\tremaining: 9.48s\n",
      "185:\tlearn: 0.6096505\ttotal: 2.16s\tremaining: 9.47s\n",
      "186:\tlearn: 0.6092451\ttotal: 2.17s\tremaining: 9.45s\n",
      "187:\tlearn: 0.6089779\ttotal: 2.19s\tremaining: 9.45s\n",
      "188:\tlearn: 0.6088737\ttotal: 2.2s\tremaining: 9.43s\n",
      "189:\tlearn: 0.6084269\ttotal: 2.21s\tremaining: 9.42s\n",
      "190:\tlearn: 0.6079844\ttotal: 2.22s\tremaining: 9.41s\n",
      "191:\tlearn: 0.6075327\ttotal: 2.23s\tremaining: 9.4s\n",
      "192:\tlearn: 0.6073330\ttotal: 2.25s\tremaining: 9.39s\n",
      "193:\tlearn: 0.6067307\ttotal: 2.26s\tremaining: 9.38s\n",
      "194:\tlearn: 0.6066901\ttotal: 2.27s\tremaining: 9.37s\n",
      "195:\tlearn: 0.6061555\ttotal: 2.28s\tremaining: 9.36s\n",
      "196:\tlearn: 0.6058115\ttotal: 2.29s\tremaining: 9.35s\n",
      "197:\tlearn: 0.6056654\ttotal: 2.31s\tremaining: 9.34s\n",
      "198:\tlearn: 0.6055149\ttotal: 2.32s\tremaining: 9.33s\n",
      "199:\tlearn: 0.6053765\ttotal: 2.33s\tremaining: 9.32s\n",
      "200:\tlearn: 0.6051652\ttotal: 2.34s\tremaining: 9.31s\n",
      "201:\tlearn: 0.6049581\ttotal: 2.35s\tremaining: 9.3s\n",
      "202:\tlearn: 0.6047861\ttotal: 2.37s\tremaining: 9.29s\n",
      "203:\tlearn: 0.6046107\ttotal: 2.38s\tremaining: 9.29s\n",
      "204:\tlearn: 0.6044896\ttotal: 2.39s\tremaining: 9.27s\n",
      "205:\tlearn: 0.6043111\ttotal: 2.4s\tremaining: 9.26s\n",
      "206:\tlearn: 0.6042792\ttotal: 2.41s\tremaining: 9.25s\n",
      "207:\tlearn: 0.6042336\ttotal: 2.43s\tremaining: 9.24s\n",
      "208:\tlearn: 0.6039267\ttotal: 2.44s\tremaining: 9.23s\n",
      "209:\tlearn: 0.6030844\ttotal: 2.45s\tremaining: 9.23s\n",
      "210:\tlearn: 0.6028618\ttotal: 2.46s\tremaining: 9.22s\n",
      "211:\tlearn: 0.6027770\ttotal: 2.48s\tremaining: 9.21s\n",
      "212:\tlearn: 0.6027160\ttotal: 2.49s\tremaining: 9.2s\n",
      "213:\tlearn: 0.6025597\ttotal: 2.5s\tremaining: 9.19s\n",
      "214:\tlearn: 0.6022382\ttotal: 2.51s\tremaining: 9.18s\n",
      "215:\tlearn: 0.6021921\ttotal: 2.53s\tremaining: 9.17s\n",
      "216:\tlearn: 0.6021489\ttotal: 2.54s\tremaining: 9.16s\n",
      "217:\tlearn: 0.6020761\ttotal: 2.55s\tremaining: 9.15s\n",
      "218:\tlearn: 0.6019521\ttotal: 2.56s\tremaining: 9.14s\n",
      "219:\tlearn: 0.6018268\ttotal: 2.57s\tremaining: 9.12s\n",
      "220:\tlearn: 0.6017980\ttotal: 2.58s\tremaining: 9.11s\n",
      "221:\tlearn: 0.6016254\ttotal: 2.6s\tremaining: 9.1s\n",
      "222:\tlearn: 0.6014672\ttotal: 2.61s\tremaining: 9.08s\n",
      "223:\tlearn: 0.6013135\ttotal: 2.62s\tremaining: 9.07s\n",
      "224:\tlearn: 0.6012923\ttotal: 2.63s\tremaining: 9.06s\n",
      "225:\tlearn: 0.6008611\ttotal: 2.64s\tremaining: 9.05s\n",
      "226:\tlearn: 0.6008043\ttotal: 2.65s\tremaining: 9.04s\n",
      "227:\tlearn: 0.6006259\ttotal: 2.67s\tremaining: 9.03s\n",
      "228:\tlearn: 0.6005975\ttotal: 2.68s\tremaining: 9.02s\n",
      "229:\tlearn: 0.6005662\ttotal: 2.69s\tremaining: 9s\n",
      "230:\tlearn: 0.6000690\ttotal: 2.7s\tremaining: 8.99s\n",
      "231:\tlearn: 0.5998741\ttotal: 2.71s\tremaining: 8.98s\n",
      "232:\tlearn: 0.5997485\ttotal: 2.73s\tremaining: 8.98s\n",
      "233:\tlearn: 0.5995865\ttotal: 2.74s\tremaining: 8.96s\n",
      "234:\tlearn: 0.5995725\ttotal: 2.75s\tremaining: 8.95s\n",
      "235:\tlearn: 0.5995401\ttotal: 2.76s\tremaining: 8.94s\n",
      "236:\tlearn: 0.5995171\ttotal: 2.77s\tremaining: 8.93s\n",
      "237:\tlearn: 0.5992528\ttotal: 2.79s\tremaining: 8.92s\n",
      "238:\tlearn: 0.5990978\ttotal: 2.8s\tremaining: 8.91s\n",
      "239:\tlearn: 0.5989758\ttotal: 2.81s\tremaining: 8.9s\n",
      "240:\tlearn: 0.5987060\ttotal: 2.82s\tremaining: 8.88s\n",
      "241:\tlearn: 0.5985869\ttotal: 2.83s\tremaining: 8.87s\n",
      "242:\tlearn: 0.5981927\ttotal: 2.85s\tremaining: 8.87s\n",
      "243:\tlearn: 0.5978450\ttotal: 2.86s\tremaining: 8.86s\n",
      "244:\tlearn: 0.5977510\ttotal: 2.87s\tremaining: 8.84s\n",
      "245:\tlearn: 0.5974641\ttotal: 2.88s\tremaining: 8.83s\n",
      "246:\tlearn: 0.5971691\ttotal: 2.89s\tremaining: 8.82s\n",
      "247:\tlearn: 0.5967758\ttotal: 2.91s\tremaining: 8.81s\n",
      "248:\tlearn: 0.5961106\ttotal: 2.92s\tremaining: 8.81s\n",
      "249:\tlearn: 0.5960838\ttotal: 2.93s\tremaining: 8.79s\n",
      "250:\tlearn: 0.5960365\ttotal: 2.94s\tremaining: 8.78s\n",
      "251:\tlearn: 0.5953206\ttotal: 2.95s\tremaining: 8.77s\n",
      "252:\tlearn: 0.5952558\ttotal: 2.97s\tremaining: 8.76s\n",
      "253:\tlearn: 0.5951735\ttotal: 2.98s\tremaining: 8.75s\n",
      "254:\tlearn: 0.5948395\ttotal: 2.99s\tremaining: 8.74s\n",
      "255:\tlearn: 0.5946568\ttotal: 3s\tremaining: 8.73s\n",
      "256:\tlearn: 0.5942935\ttotal: 3.02s\tremaining: 8.72s\n",
      "257:\tlearn: 0.5940653\ttotal: 3.03s\tremaining: 8.71s\n",
      "258:\tlearn: 0.5940242\ttotal: 3.04s\tremaining: 8.7s\n",
      "259:\tlearn: 0.5939765\ttotal: 3.05s\tremaining: 8.69s\n",
      "260:\tlearn: 0.5938061\ttotal: 3.06s\tremaining: 8.68s\n",
      "261:\tlearn: 0.5937226\ttotal: 3.08s\tremaining: 8.66s\n",
      "262:\tlearn: 0.5936438\ttotal: 3.08s\tremaining: 8.65s\n",
      "263:\tlearn: 0.5936131\ttotal: 3.1s\tremaining: 8.63s\n",
      "264:\tlearn: 0.5932603\ttotal: 3.11s\tremaining: 8.62s\n",
      "265:\tlearn: 0.5931422\ttotal: 3.12s\tremaining: 8.61s\n",
      "266:\tlearn: 0.5930839\ttotal: 3.13s\tremaining: 8.59s\n",
      "267:\tlearn: 0.5927513\ttotal: 3.14s\tremaining: 8.58s\n",
      "268:\tlearn: 0.5924370\ttotal: 3.15s\tremaining: 8.57s\n",
      "269:\tlearn: 0.5920878\ttotal: 3.17s\tremaining: 8.56s\n",
      "270:\tlearn: 0.5920243\ttotal: 3.18s\tremaining: 8.54s\n",
      "271:\tlearn: 0.5915830\ttotal: 3.19s\tremaining: 8.54s\n",
      "272:\tlearn: 0.5914152\ttotal: 3.2s\tremaining: 8.52s\n",
      "273:\tlearn: 0.5913417\ttotal: 3.21s\tremaining: 8.51s\n",
      "274:\tlearn: 0.5913228\ttotal: 3.22s\tremaining: 8.49s\n",
      "275:\tlearn: 0.5909639\ttotal: 3.23s\tremaining: 8.48s\n",
      "276:\tlearn: 0.5908311\ttotal: 3.25s\tremaining: 8.47s\n",
      "277:\tlearn: 0.5907260\ttotal: 3.26s\tremaining: 8.46s\n",
      "278:\tlearn: 0.5906615\ttotal: 3.27s\tremaining: 8.45s\n",
      "279:\tlearn: 0.5905913\ttotal: 3.28s\tremaining: 8.43s\n",
      "280:\tlearn: 0.5905123\ttotal: 3.29s\tremaining: 8.42s\n",
      "281:\tlearn: 0.5904209\ttotal: 3.3s\tremaining: 8.4s\n",
      "282:\tlearn: 0.5901516\ttotal: 3.31s\tremaining: 8.39s\n",
      "283:\tlearn: 0.5899797\ttotal: 3.32s\tremaining: 8.38s\n",
      "284:\tlearn: 0.5897854\ttotal: 3.33s\tremaining: 8.37s\n",
      "285:\tlearn: 0.5895876\ttotal: 3.35s\tremaining: 8.35s\n",
      "286:\tlearn: 0.5894956\ttotal: 3.36s\tremaining: 8.34s\n",
      "287:\tlearn: 0.5894301\ttotal: 3.37s\tremaining: 8.33s\n",
      "288:\tlearn: 0.5891840\ttotal: 3.38s\tremaining: 8.32s\n",
      "289:\tlearn: 0.5891484\ttotal: 3.39s\tremaining: 8.3s\n",
      "290:\tlearn: 0.5889269\ttotal: 3.41s\tremaining: 8.3s\n",
      "291:\tlearn: 0.5888386\ttotal: 3.42s\tremaining: 8.29s\n",
      "292:\tlearn: 0.5887284\ttotal: 3.43s\tremaining: 8.28s\n",
      "293:\tlearn: 0.5885060\ttotal: 3.44s\tremaining: 8.27s\n",
      "294:\tlearn: 0.5884521\ttotal: 3.45s\tremaining: 8.25s\n",
      "295:\tlearn: 0.5884145\ttotal: 3.46s\tremaining: 8.24s\n",
      "296:\tlearn: 0.5882843\ttotal: 3.48s\tremaining: 8.23s\n",
      "297:\tlearn: 0.5882549\ttotal: 3.49s\tremaining: 8.22s\n",
      "298:\tlearn: 0.5881176\ttotal: 3.5s\tremaining: 8.21s\n",
      "299:\tlearn: 0.5878761\ttotal: 3.52s\tremaining: 8.2s\n",
      "300:\tlearn: 0.5877862\ttotal: 3.53s\tremaining: 8.19s\n",
      "301:\tlearn: 0.5875152\ttotal: 3.54s\tremaining: 8.18s\n",
      "302:\tlearn: 0.5872868\ttotal: 3.55s\tremaining: 8.17s\n",
      "303:\tlearn: 0.5869038\ttotal: 3.57s\tremaining: 8.16s\n",
      "304:\tlearn: 0.5867025\ttotal: 3.58s\tremaining: 8.16s\n",
      "305:\tlearn: 0.5863163\ttotal: 3.59s\tremaining: 8.15s\n",
      "306:\tlearn: 0.5857929\ttotal: 3.6s\tremaining: 8.14s\n",
      "307:\tlearn: 0.5854547\ttotal: 3.62s\tremaining: 8.13s\n",
      "308:\tlearn: 0.5853136\ttotal: 3.63s\tremaining: 8.11s\n",
      "309:\tlearn: 0.5850489\ttotal: 3.64s\tremaining: 8.1s\n",
      "310:\tlearn: 0.5847138\ttotal: 3.65s\tremaining: 8.09s\n",
      "311:\tlearn: 0.5845457\ttotal: 3.66s\tremaining: 8.08s\n",
      "312:\tlearn: 0.5844749\ttotal: 3.68s\tremaining: 8.07s\n",
      "313:\tlearn: 0.5843743\ttotal: 3.69s\tremaining: 8.06s\n",
      "314:\tlearn: 0.5843032\ttotal: 3.7s\tremaining: 8.05s\n",
      "315:\tlearn: 0.5841134\ttotal: 3.71s\tremaining: 8.04s\n",
      "316:\tlearn: 0.5840775\ttotal: 3.73s\tremaining: 8.03s\n",
      "317:\tlearn: 0.5836846\ttotal: 3.74s\tremaining: 8.02s\n",
      "318:\tlearn: 0.5833927\ttotal: 3.75s\tremaining: 8.01s\n",
      "319:\tlearn: 0.5833847\ttotal: 3.76s\tremaining: 8s\n",
      "320:\tlearn: 0.5831879\ttotal: 3.78s\tremaining: 7.99s\n",
      "321:\tlearn: 0.5831275\ttotal: 3.79s\tremaining: 7.98s\n",
      "322:\tlearn: 0.5831119\ttotal: 3.8s\tremaining: 7.96s\n",
      "323:\tlearn: 0.5828446\ttotal: 3.81s\tremaining: 7.96s\n",
      "324:\tlearn: 0.5828272\ttotal: 3.82s\tremaining: 7.94s\n",
      "325:\tlearn: 0.5827521\ttotal: 3.84s\tremaining: 7.93s\n",
      "326:\tlearn: 0.5826859\ttotal: 3.85s\tremaining: 7.92s\n",
      "327:\tlearn: 0.5825387\ttotal: 3.86s\tremaining: 7.91s\n",
      "328:\tlearn: 0.5823991\ttotal: 3.87s\tremaining: 7.9s\n",
      "329:\tlearn: 0.5821734\ttotal: 3.88s\tremaining: 7.89s\n",
      "330:\tlearn: 0.5821377\ttotal: 3.9s\tremaining: 7.88s\n",
      "331:\tlearn: 0.5820271\ttotal: 3.91s\tremaining: 7.87s\n",
      "332:\tlearn: 0.5819863\ttotal: 3.92s\tremaining: 7.85s\n",
      "333:\tlearn: 0.5819195\ttotal: 3.93s\tremaining: 7.84s\n",
      "334:\tlearn: 0.5817974\ttotal: 3.94s\tremaining: 7.83s\n",
      "335:\tlearn: 0.5815211\ttotal: 3.96s\tremaining: 7.82s\n",
      "336:\tlearn: 0.5814211\ttotal: 3.97s\tremaining: 7.81s\n",
      "337:\tlearn: 0.5813822\ttotal: 3.98s\tremaining: 7.8s\n",
      "338:\tlearn: 0.5813392\ttotal: 3.99s\tremaining: 7.79s\n",
      "339:\tlearn: 0.5812520\ttotal: 4.01s\tremaining: 7.78s\n",
      "340:\tlearn: 0.5810679\ttotal: 4.02s\tremaining: 7.76s\n",
      "341:\tlearn: 0.5807579\ttotal: 4.03s\tremaining: 7.75s\n",
      "342:\tlearn: 0.5805248\ttotal: 4.04s\tremaining: 7.75s\n",
      "343:\tlearn: 0.5804433\ttotal: 4.05s\tremaining: 7.73s\n",
      "344:\tlearn: 0.5803171\ttotal: 4.07s\tremaining: 7.72s\n",
      "345:\tlearn: 0.5801366\ttotal: 4.08s\tremaining: 7.71s\n",
      "346:\tlearn: 0.5799747\ttotal: 4.09s\tremaining: 7.7s\n",
      "347:\tlearn: 0.5799176\ttotal: 4.1s\tremaining: 7.69s\n",
      "348:\tlearn: 0.5797832\ttotal: 4.11s\tremaining: 7.67s\n",
      "349:\tlearn: 0.5797273\ttotal: 4.12s\tremaining: 7.66s\n",
      "350:\tlearn: 0.5796801\ttotal: 4.13s\tremaining: 7.64s\n",
      "351:\tlearn: 0.5796513\ttotal: 4.14s\tremaining: 7.63s\n",
      "352:\tlearn: 0.5794275\ttotal: 4.16s\tremaining: 7.62s\n",
      "353:\tlearn: 0.5793545\ttotal: 4.17s\tremaining: 7.61s\n",
      "354:\tlearn: 0.5792782\ttotal: 4.18s\tremaining: 7.59s\n",
      "355:\tlearn: 0.5791824\ttotal: 4.19s\tremaining: 7.58s\n",
      "356:\tlearn: 0.5789711\ttotal: 4.2s\tremaining: 7.57s\n",
      "357:\tlearn: 0.5788769\ttotal: 4.21s\tremaining: 7.55s\n",
      "358:\tlearn: 0.5788358\ttotal: 4.22s\tremaining: 7.54s\n",
      "359:\tlearn: 0.5785885\ttotal: 4.24s\tremaining: 7.53s\n",
      "360:\tlearn: 0.5785207\ttotal: 4.25s\tremaining: 7.52s\n",
      "361:\tlearn: 0.5784348\ttotal: 4.26s\tremaining: 7.5s\n",
      "362:\tlearn: 0.5782720\ttotal: 4.27s\tremaining: 7.49s\n",
      "363:\tlearn: 0.5780558\ttotal: 4.28s\tremaining: 7.48s\n",
      "364:\tlearn: 0.5777787\ttotal: 4.29s\tremaining: 7.47s\n",
      "365:\tlearn: 0.5775551\ttotal: 4.31s\tremaining: 7.46s\n",
      "366:\tlearn: 0.5770943\ttotal: 4.32s\tremaining: 7.45s\n",
      "367:\tlearn: 0.5769514\ttotal: 4.33s\tremaining: 7.44s\n",
      "368:\tlearn: 0.5769141\ttotal: 4.34s\tremaining: 7.42s\n",
      "369:\tlearn: 0.5765795\ttotal: 4.35s\tremaining: 7.41s\n",
      "370:\tlearn: 0.5765114\ttotal: 4.37s\tremaining: 7.4s\n",
      "371:\tlearn: 0.5762731\ttotal: 4.38s\tremaining: 7.39s\n",
      "372:\tlearn: 0.5758338\ttotal: 4.39s\tremaining: 7.38s\n",
      "373:\tlearn: 0.5756170\ttotal: 4.4s\tremaining: 7.37s\n",
      "374:\tlearn: 0.5755184\ttotal: 4.41s\tremaining: 7.35s\n",
      "375:\tlearn: 0.5755095\ttotal: 4.42s\tremaining: 7.34s\n",
      "376:\tlearn: 0.5754538\ttotal: 4.43s\tremaining: 7.33s\n",
      "377:\tlearn: 0.5754330\ttotal: 4.44s\tremaining: 7.31s\n",
      "378:\tlearn: 0.5754011\ttotal: 4.45s\tremaining: 7.3s\n",
      "379:\tlearn: 0.5753138\ttotal: 4.46s\tremaining: 7.29s\n",
      "380:\tlearn: 0.5752906\ttotal: 4.47s\tremaining: 7.27s\n",
      "381:\tlearn: 0.5749907\ttotal: 4.49s\tremaining: 7.26s\n",
      "382:\tlearn: 0.5748352\ttotal: 4.5s\tremaining: 7.25s\n",
      "383:\tlearn: 0.5748156\ttotal: 4.51s\tremaining: 7.24s\n",
      "384:\tlearn: 0.5747283\ttotal: 4.52s\tremaining: 7.22s\n",
      "385:\tlearn: 0.5746217\ttotal: 4.53s\tremaining: 7.21s\n",
      "386:\tlearn: 0.5744566\ttotal: 4.54s\tremaining: 7.2s\n",
      "387:\tlearn: 0.5744183\ttotal: 4.56s\tremaining: 7.19s\n",
      "388:\tlearn: 0.5744069\ttotal: 4.57s\tremaining: 7.17s\n",
      "389:\tlearn: 0.5740989\ttotal: 4.58s\tremaining: 7.16s\n",
      "390:\tlearn: 0.5740784\ttotal: 4.59s\tremaining: 7.15s\n",
      "391:\tlearn: 0.5740184\ttotal: 4.6s\tremaining: 7.13s\n",
      "392:\tlearn: 0.5738429\ttotal: 4.61s\tremaining: 7.12s\n",
      "393:\tlearn: 0.5737185\ttotal: 4.62s\tremaining: 7.11s\n",
      "394:\tlearn: 0.5736294\ttotal: 4.63s\tremaining: 7.09s\n",
      "395:\tlearn: 0.5734691\ttotal: 4.64s\tremaining: 7.08s\n",
      "396:\tlearn: 0.5733896\ttotal: 4.66s\tremaining: 7.07s\n",
      "397:\tlearn: 0.5733785\ttotal: 4.67s\tremaining: 7.06s\n",
      "398:\tlearn: 0.5732510\ttotal: 4.68s\tremaining: 7.04s\n",
      "399:\tlearn: 0.5731121\ttotal: 4.69s\tremaining: 7.03s\n",
      "400:\tlearn: 0.5731035\ttotal: 4.7s\tremaining: 7.02s\n",
      "401:\tlearn: 0.5729153\ttotal: 4.71s\tremaining: 7.01s\n",
      "402:\tlearn: 0.5726554\ttotal: 4.72s\tremaining: 7s\n",
      "403:\tlearn: 0.5724221\ttotal: 4.74s\tremaining: 6.99s\n",
      "404:\tlearn: 0.5722078\ttotal: 4.75s\tremaining: 6.97s\n",
      "405:\tlearn: 0.5720706\ttotal: 4.76s\tremaining: 6.96s\n",
      "406:\tlearn: 0.5719493\ttotal: 4.77s\tremaining: 6.95s\n",
      "407:\tlearn: 0.5717927\ttotal: 4.78s\tremaining: 6.94s\n",
      "408:\tlearn: 0.5715640\ttotal: 4.79s\tremaining: 6.93s\n",
      "409:\tlearn: 0.5715318\ttotal: 4.8s\tremaining: 6.91s\n",
      "410:\tlearn: 0.5714027\ttotal: 4.82s\tremaining: 6.9s\n",
      "411:\tlearn: 0.5713379\ttotal: 4.83s\tremaining: 6.89s\n",
      "412:\tlearn: 0.5712643\ttotal: 4.84s\tremaining: 6.88s\n",
      "413:\tlearn: 0.5710966\ttotal: 4.85s\tremaining: 6.86s\n",
      "414:\tlearn: 0.5709775\ttotal: 4.86s\tremaining: 6.85s\n",
      "415:\tlearn: 0.5707714\ttotal: 4.87s\tremaining: 6.84s\n",
      "416:\tlearn: 0.5707537\ttotal: 4.88s\tremaining: 6.83s\n",
      "417:\tlearn: 0.5706172\ttotal: 4.89s\tremaining: 6.82s\n",
      "418:\tlearn: 0.5704763\ttotal: 4.91s\tremaining: 6.8s\n",
      "419:\tlearn: 0.5703492\ttotal: 4.92s\tremaining: 6.79s\n",
      "420:\tlearn: 0.5703406\ttotal: 4.93s\tremaining: 6.78s\n",
      "421:\tlearn: 0.5702762\ttotal: 4.94s\tremaining: 6.77s\n",
      "422:\tlearn: 0.5701515\ttotal: 4.95s\tremaining: 6.75s\n",
      "423:\tlearn: 0.5701023\ttotal: 4.96s\tremaining: 6.74s\n",
      "424:\tlearn: 0.5698206\ttotal: 4.97s\tremaining: 6.73s\n",
      "425:\tlearn: 0.5694890\ttotal: 4.99s\tremaining: 6.72s\n",
      "426:\tlearn: 0.5693479\ttotal: 5s\tremaining: 6.71s\n",
      "427:\tlearn: 0.5692906\ttotal: 5.01s\tremaining: 6.7s\n",
      "428:\tlearn: 0.5692686\ttotal: 5.02s\tremaining: 6.68s\n",
      "429:\tlearn: 0.5692279\ttotal: 5.03s\tremaining: 6.67s\n",
      "430:\tlearn: 0.5691967\ttotal: 5.04s\tremaining: 6.66s\n",
      "431:\tlearn: 0.5691387\ttotal: 5.05s\tremaining: 6.64s\n",
      "432:\tlearn: 0.5691061\ttotal: 5.06s\tremaining: 6.63s\n",
      "433:\tlearn: 0.5689803\ttotal: 5.07s\tremaining: 6.62s\n",
      "434:\tlearn: 0.5688543\ttotal: 5.08s\tremaining: 6.61s\n",
      "435:\tlearn: 0.5686186\ttotal: 5.1s\tremaining: 6.59s\n",
      "436:\tlearn: 0.5685389\ttotal: 5.11s\tremaining: 6.58s\n",
      "437:\tlearn: 0.5683660\ttotal: 5.12s\tremaining: 6.57s\n",
      "438:\tlearn: 0.5679602\ttotal: 5.13s\tremaining: 6.56s\n",
      "439:\tlearn: 0.5678250\ttotal: 5.14s\tremaining: 6.55s\n",
      "440:\tlearn: 0.5677389\ttotal: 5.16s\tremaining: 6.54s\n",
      "441:\tlearn: 0.5675709\ttotal: 5.17s\tremaining: 6.53s\n",
      "442:\tlearn: 0.5673949\ttotal: 5.18s\tremaining: 6.51s\n",
      "443:\tlearn: 0.5670875\ttotal: 5.19s\tremaining: 6.5s\n",
      "444:\tlearn: 0.5670554\ttotal: 5.2s\tremaining: 6.49s\n",
      "445:\tlearn: 0.5670167\ttotal: 5.21s\tremaining: 6.48s\n",
      "446:\tlearn: 0.5667773\ttotal: 5.22s\tremaining: 6.46s\n",
      "447:\tlearn: 0.5666627\ttotal: 5.24s\tremaining: 6.45s\n",
      "448:\tlearn: 0.5663770\ttotal: 5.25s\tremaining: 6.44s\n",
      "449:\tlearn: 0.5663344\ttotal: 5.26s\tremaining: 6.43s\n",
      "450:\tlearn: 0.5661569\ttotal: 5.27s\tremaining: 6.42s\n",
      "451:\tlearn: 0.5659385\ttotal: 5.28s\tremaining: 6.4s\n",
      "452:\tlearn: 0.5657858\ttotal: 5.29s\tremaining: 6.39s\n",
      "453:\tlearn: 0.5656538\ttotal: 5.3s\tremaining: 6.38s\n",
      "454:\tlearn: 0.5656164\ttotal: 5.32s\tremaining: 6.37s\n",
      "455:\tlearn: 0.5654095\ttotal: 5.34s\tremaining: 6.37s\n",
      "456:\tlearn: 0.5651897\ttotal: 5.37s\tremaining: 6.37s\n",
      "457:\tlearn: 0.5651788\ttotal: 5.38s\tremaining: 6.36s\n",
      "458:\tlearn: 0.5648134\ttotal: 5.39s\tremaining: 6.35s\n",
      "459:\tlearn: 0.5647674\ttotal: 5.41s\tremaining: 6.34s\n",
      "460:\tlearn: 0.5646621\ttotal: 5.42s\tremaining: 6.33s\n",
      "461:\tlearn: 0.5646456\ttotal: 5.43s\tremaining: 6.32s\n",
      "462:\tlearn: 0.5643536\ttotal: 5.44s\tremaining: 6.31s\n",
      "463:\tlearn: 0.5642975\ttotal: 5.45s\tremaining: 6.3s\n",
      "464:\tlearn: 0.5642717\ttotal: 5.47s\tremaining: 6.29s\n",
      "465:\tlearn: 0.5641637\ttotal: 5.48s\tremaining: 6.28s\n",
      "466:\tlearn: 0.5640342\ttotal: 5.49s\tremaining: 6.26s\n",
      "467:\tlearn: 0.5640047\ttotal: 5.5s\tremaining: 6.25s\n",
      "468:\tlearn: 0.5639237\ttotal: 5.51s\tremaining: 6.24s\n",
      "469:\tlearn: 0.5638105\ttotal: 5.52s\tremaining: 6.23s\n",
      "470:\tlearn: 0.5637390\ttotal: 5.53s\tremaining: 6.21s\n",
      "471:\tlearn: 0.5637194\ttotal: 5.54s\tremaining: 6.2s\n",
      "472:\tlearn: 0.5635782\ttotal: 5.56s\tremaining: 6.19s\n",
      "473:\tlearn: 0.5635056\ttotal: 5.57s\tremaining: 6.18s\n",
      "474:\tlearn: 0.5634998\ttotal: 5.58s\tremaining: 6.17s\n",
      "475:\tlearn: 0.5634795\ttotal: 5.59s\tremaining: 6.15s\n",
      "476:\tlearn: 0.5634516\ttotal: 5.6s\tremaining: 6.14s\n",
      "477:\tlearn: 0.5632027\ttotal: 5.61s\tremaining: 6.13s\n",
      "478:\tlearn: 0.5631370\ttotal: 5.62s\tremaining: 6.12s\n",
      "479:\tlearn: 0.5629625\ttotal: 5.63s\tremaining: 6.1s\n",
      "480:\tlearn: 0.5629123\ttotal: 5.65s\tremaining: 6.09s\n",
      "481:\tlearn: 0.5628645\ttotal: 5.66s\tremaining: 6.08s\n",
      "482:\tlearn: 0.5626663\ttotal: 5.67s\tremaining: 6.07s\n",
      "483:\tlearn: 0.5625974\ttotal: 5.68s\tremaining: 6.05s\n",
      "484:\tlearn: 0.5623413\ttotal: 5.69s\tremaining: 6.04s\n",
      "485:\tlearn: 0.5620999\ttotal: 5.7s\tremaining: 6.03s\n",
      "486:\tlearn: 0.5620698\ttotal: 5.71s\tremaining: 6.02s\n",
      "487:\tlearn: 0.5620172\ttotal: 5.73s\tremaining: 6.01s\n",
      "488:\tlearn: 0.5616706\ttotal: 5.74s\tremaining: 6s\n",
      "489:\tlearn: 0.5616089\ttotal: 5.75s\tremaining: 5.99s\n",
      "490:\tlearn: 0.5615428\ttotal: 5.76s\tremaining: 5.97s\n",
      "491:\tlearn: 0.5614930\ttotal: 5.77s\tremaining: 5.96s\n",
      "492:\tlearn: 0.5614260\ttotal: 5.78s\tremaining: 5.95s\n",
      "493:\tlearn: 0.5613806\ttotal: 5.8s\tremaining: 5.94s\n",
      "494:\tlearn: 0.5611726\ttotal: 5.81s\tremaining: 5.92s\n",
      "495:\tlearn: 0.5608799\ttotal: 5.82s\tremaining: 5.91s\n",
      "496:\tlearn: 0.5606162\ttotal: 5.83s\tremaining: 5.9s\n",
      "497:\tlearn: 0.5602709\ttotal: 5.84s\tremaining: 5.89s\n",
      "498:\tlearn: 0.5602389\ttotal: 5.86s\tremaining: 5.88s\n",
      "499:\tlearn: 0.5600891\ttotal: 5.87s\tremaining: 5.87s\n",
      "500:\tlearn: 0.5600250\ttotal: 5.88s\tremaining: 5.86s\n",
      "501:\tlearn: 0.5598179\ttotal: 5.89s\tremaining: 5.84s\n",
      "502:\tlearn: 0.5595225\ttotal: 5.9s\tremaining: 5.83s\n",
      "503:\tlearn: 0.5594741\ttotal: 5.91s\tremaining: 5.82s\n",
      "504:\tlearn: 0.5592847\ttotal: 5.92s\tremaining: 5.81s\n",
      "505:\tlearn: 0.5591455\ttotal: 5.94s\tremaining: 5.8s\n",
      "506:\tlearn: 0.5590068\ttotal: 5.95s\tremaining: 5.78s\n",
      "507:\tlearn: 0.5589430\ttotal: 5.96s\tremaining: 5.77s\n",
      "508:\tlearn: 0.5588300\ttotal: 5.97s\tremaining: 5.76s\n",
      "509:\tlearn: 0.5587836\ttotal: 5.98s\tremaining: 5.75s\n",
      "510:\tlearn: 0.5586947\ttotal: 6s\tremaining: 5.74s\n",
      "511:\tlearn: 0.5586263\ttotal: 6.01s\tremaining: 5.73s\n",
      "512:\tlearn: 0.5585774\ttotal: 6.02s\tremaining: 5.71s\n",
      "513:\tlearn: 0.5585579\ttotal: 6.03s\tremaining: 5.7s\n",
      "514:\tlearn: 0.5584443\ttotal: 6.04s\tremaining: 5.69s\n",
      "515:\tlearn: 0.5580176\ttotal: 6.05s\tremaining: 5.68s\n",
      "516:\tlearn: 0.5578748\ttotal: 6.07s\tremaining: 5.67s\n",
      "517:\tlearn: 0.5577286\ttotal: 6.08s\tremaining: 5.65s\n",
      "518:\tlearn: 0.5574730\ttotal: 6.09s\tremaining: 5.64s\n",
      "519:\tlearn: 0.5574408\ttotal: 6.1s\tremaining: 5.63s\n",
      "520:\tlearn: 0.5573795\ttotal: 6.11s\tremaining: 5.62s\n",
      "521:\tlearn: 0.5571791\ttotal: 6.12s\tremaining: 5.61s\n",
      "522:\tlearn: 0.5570825\ttotal: 6.14s\tremaining: 5.6s\n",
      "523:\tlearn: 0.5568783\ttotal: 6.15s\tremaining: 5.59s\n",
      "524:\tlearn: 0.5567538\ttotal: 6.16s\tremaining: 5.58s\n",
      "525:\tlearn: 0.5567443\ttotal: 6.17s\tremaining: 5.56s\n",
      "526:\tlearn: 0.5566741\ttotal: 6.18s\tremaining: 5.55s\n",
      "527:\tlearn: 0.5565898\ttotal: 6.19s\tremaining: 5.54s\n",
      "528:\tlearn: 0.5565389\ttotal: 6.21s\tremaining: 5.53s\n",
      "529:\tlearn: 0.5563967\ttotal: 6.22s\tremaining: 5.51s\n",
      "530:\tlearn: 0.5562339\ttotal: 6.23s\tremaining: 5.5s\n",
      "531:\tlearn: 0.5562101\ttotal: 6.24s\tremaining: 5.49s\n",
      "532:\tlearn: 0.5561137\ttotal: 6.25s\tremaining: 5.48s\n",
      "533:\tlearn: 0.5560249\ttotal: 6.26s\tremaining: 5.46s\n",
      "534:\tlearn: 0.5558493\ttotal: 6.27s\tremaining: 5.45s\n",
      "535:\tlearn: 0.5557140\ttotal: 6.29s\tremaining: 5.44s\n",
      "536:\tlearn: 0.5556624\ttotal: 6.3s\tremaining: 5.43s\n",
      "537:\tlearn: 0.5555319\ttotal: 6.31s\tremaining: 5.42s\n",
      "538:\tlearn: 0.5555167\ttotal: 6.32s\tremaining: 5.41s\n",
      "539:\tlearn: 0.5551087\ttotal: 6.33s\tremaining: 5.39s\n",
      "540:\tlearn: 0.5550831\ttotal: 6.34s\tremaining: 5.38s\n",
      "541:\tlearn: 0.5549835\ttotal: 6.36s\tremaining: 5.37s\n",
      "542:\tlearn: 0.5549333\ttotal: 6.37s\tremaining: 5.36s\n",
      "543:\tlearn: 0.5548845\ttotal: 6.38s\tremaining: 5.35s\n",
      "544:\tlearn: 0.5546578\ttotal: 6.39s\tremaining: 5.33s\n",
      "545:\tlearn: 0.5542967\ttotal: 6.4s\tremaining: 5.32s\n",
      "546:\tlearn: 0.5542455\ttotal: 6.41s\tremaining: 5.31s\n",
      "547:\tlearn: 0.5541354\ttotal: 6.42s\tremaining: 5.3s\n",
      "548:\tlearn: 0.5540795\ttotal: 6.43s\tremaining: 5.29s\n",
      "549:\tlearn: 0.5540541\ttotal: 6.45s\tremaining: 5.27s\n",
      "550:\tlearn: 0.5540031\ttotal: 6.46s\tremaining: 5.26s\n",
      "551:\tlearn: 0.5537583\ttotal: 6.47s\tremaining: 5.25s\n",
      "552:\tlearn: 0.5536749\ttotal: 6.48s\tremaining: 5.24s\n",
      "553:\tlearn: 0.5535981\ttotal: 6.49s\tremaining: 5.22s\n",
      "554:\tlearn: 0.5535161\ttotal: 6.5s\tremaining: 5.21s\n",
      "555:\tlearn: 0.5534735\ttotal: 6.51s\tremaining: 5.2s\n",
      "556:\tlearn: 0.5534573\ttotal: 6.52s\tremaining: 5.19s\n",
      "557:\tlearn: 0.5532930\ttotal: 6.54s\tremaining: 5.18s\n",
      "558:\tlearn: 0.5530978\ttotal: 6.55s\tremaining: 5.17s\n",
      "559:\tlearn: 0.5530217\ttotal: 6.56s\tremaining: 5.15s\n",
      "560:\tlearn: 0.5529504\ttotal: 6.57s\tremaining: 5.14s\n",
      "561:\tlearn: 0.5528810\ttotal: 6.58s\tremaining: 5.13s\n",
      "562:\tlearn: 0.5527902\ttotal: 6.59s\tremaining: 5.12s\n",
      "563:\tlearn: 0.5526114\ttotal: 6.61s\tremaining: 5.11s\n",
      "564:\tlearn: 0.5524567\ttotal: 6.62s\tremaining: 5.09s\n",
      "565:\tlearn: 0.5519987\ttotal: 6.63s\tremaining: 5.08s\n",
      "566:\tlearn: 0.5519123\ttotal: 6.64s\tremaining: 5.07s\n",
      "567:\tlearn: 0.5518822\ttotal: 6.65s\tremaining: 5.06s\n",
      "568:\tlearn: 0.5515572\ttotal: 6.67s\tremaining: 5.05s\n",
      "569:\tlearn: 0.5513378\ttotal: 6.68s\tremaining: 5.04s\n",
      "570:\tlearn: 0.5512200\ttotal: 6.69s\tremaining: 5.03s\n",
      "571:\tlearn: 0.5511680\ttotal: 6.7s\tremaining: 5.01s\n",
      "572:\tlearn: 0.5511245\ttotal: 6.71s\tremaining: 5s\n",
      "573:\tlearn: 0.5509119\ttotal: 6.72s\tremaining: 4.99s\n",
      "574:\tlearn: 0.5508663\ttotal: 6.74s\tremaining: 4.98s\n",
      "575:\tlearn: 0.5507510\ttotal: 6.75s\tremaining: 4.97s\n",
      "576:\tlearn: 0.5506570\ttotal: 6.76s\tremaining: 4.96s\n",
      "577:\tlearn: 0.5505019\ttotal: 6.77s\tremaining: 4.94s\n",
      "578:\tlearn: 0.5503913\ttotal: 6.78s\tremaining: 4.93s\n",
      "579:\tlearn: 0.5502224\ttotal: 6.79s\tremaining: 4.92s\n",
      "580:\tlearn: 0.5500683\ttotal: 6.81s\tremaining: 4.91s\n",
      "581:\tlearn: 0.5499772\ttotal: 6.82s\tremaining: 4.9s\n",
      "582:\tlearn: 0.5499298\ttotal: 6.83s\tremaining: 4.88s\n",
      "583:\tlearn: 0.5497177\ttotal: 6.84s\tremaining: 4.87s\n",
      "584:\tlearn: 0.5495258\ttotal: 6.85s\tremaining: 4.86s\n",
      "585:\tlearn: 0.5495061\ttotal: 6.86s\tremaining: 4.85s\n",
      "586:\tlearn: 0.5493876\ttotal: 6.87s\tremaining: 4.84s\n",
      "587:\tlearn: 0.5492290\ttotal: 6.89s\tremaining: 4.83s\n",
      "588:\tlearn: 0.5491696\ttotal: 6.9s\tremaining: 4.81s\n",
      "589:\tlearn: 0.5490679\ttotal: 6.91s\tremaining: 4.8s\n",
      "590:\tlearn: 0.5487242\ttotal: 6.92s\tremaining: 4.79s\n",
      "591:\tlearn: 0.5485760\ttotal: 6.93s\tremaining: 4.78s\n",
      "592:\tlearn: 0.5483962\ttotal: 6.95s\tremaining: 4.77s\n",
      "593:\tlearn: 0.5482300\ttotal: 6.96s\tremaining: 4.75s\n",
      "594:\tlearn: 0.5479199\ttotal: 6.97s\tremaining: 4.74s\n",
      "595:\tlearn: 0.5477956\ttotal: 6.98s\tremaining: 4.73s\n",
      "596:\tlearn: 0.5477800\ttotal: 6.99s\tremaining: 4.72s\n",
      "597:\tlearn: 0.5477462\ttotal: 7s\tremaining: 4.71s\n",
      "598:\tlearn: 0.5475596\ttotal: 7.01s\tremaining: 4.7s\n",
      "599:\tlearn: 0.5475525\ttotal: 7.03s\tremaining: 4.68s\n",
      "600:\tlearn: 0.5474124\ttotal: 7.04s\tremaining: 4.67s\n",
      "601:\tlearn: 0.5473301\ttotal: 7.05s\tremaining: 4.66s\n",
      "602:\tlearn: 0.5473129\ttotal: 7.06s\tremaining: 4.65s\n",
      "603:\tlearn: 0.5471761\ttotal: 7.07s\tremaining: 4.63s\n",
      "604:\tlearn: 0.5471540\ttotal: 7.08s\tremaining: 4.62s\n",
      "605:\tlearn: 0.5470349\ttotal: 7.09s\tremaining: 4.61s\n",
      "606:\tlearn: 0.5469654\ttotal: 7.1s\tremaining: 4.6s\n",
      "607:\tlearn: 0.5469069\ttotal: 7.12s\tremaining: 4.59s\n",
      "608:\tlearn: 0.5468187\ttotal: 7.13s\tremaining: 4.58s\n",
      "609:\tlearn: 0.5467253\ttotal: 7.14s\tremaining: 4.56s\n",
      "610:\tlearn: 0.5467158\ttotal: 7.15s\tremaining: 4.55s\n",
      "611:\tlearn: 0.5466798\ttotal: 7.16s\tremaining: 4.54s\n",
      "612:\tlearn: 0.5466639\ttotal: 7.17s\tremaining: 4.53s\n",
      "613:\tlearn: 0.5466063\ttotal: 7.18s\tremaining: 4.52s\n",
      "614:\tlearn: 0.5465781\ttotal: 7.2s\tremaining: 4.5s\n",
      "615:\tlearn: 0.5464718\ttotal: 7.21s\tremaining: 4.49s\n",
      "616:\tlearn: 0.5464394\ttotal: 7.22s\tremaining: 4.48s\n",
      "617:\tlearn: 0.5463813\ttotal: 7.23s\tremaining: 4.47s\n",
      "618:\tlearn: 0.5463673\ttotal: 7.24s\tremaining: 4.46s\n",
      "619:\tlearn: 0.5461682\ttotal: 7.25s\tremaining: 4.45s\n",
      "620:\tlearn: 0.5461566\ttotal: 7.26s\tremaining: 4.43s\n",
      "621:\tlearn: 0.5461231\ttotal: 7.27s\tremaining: 4.42s\n",
      "622:\tlearn: 0.5458634\ttotal: 7.29s\tremaining: 4.41s\n",
      "623:\tlearn: 0.5457054\ttotal: 7.3s\tremaining: 4.4s\n",
      "624:\tlearn: 0.5456095\ttotal: 7.31s\tremaining: 4.39s\n",
      "625:\tlearn: 0.5455735\ttotal: 7.32s\tremaining: 4.37s\n",
      "626:\tlearn: 0.5454556\ttotal: 7.33s\tremaining: 4.36s\n",
      "627:\tlearn: 0.5454313\ttotal: 7.34s\tremaining: 4.35s\n",
      "628:\tlearn: 0.5452089\ttotal: 7.36s\tremaining: 4.34s\n",
      "629:\tlearn: 0.5451802\ttotal: 7.37s\tremaining: 4.33s\n",
      "630:\tlearn: 0.5450313\ttotal: 7.38s\tremaining: 4.32s\n",
      "631:\tlearn: 0.5447638\ttotal: 7.39s\tremaining: 4.3s\n",
      "632:\tlearn: 0.5446334\ttotal: 7.41s\tremaining: 4.29s\n",
      "633:\tlearn: 0.5445784\ttotal: 7.42s\tremaining: 4.28s\n",
      "634:\tlearn: 0.5444611\ttotal: 7.43s\tremaining: 4.27s\n",
      "635:\tlearn: 0.5444358\ttotal: 7.44s\tremaining: 4.26s\n",
      "636:\tlearn: 0.5443665\ttotal: 7.45s\tremaining: 4.25s\n",
      "637:\tlearn: 0.5441693\ttotal: 7.46s\tremaining: 4.23s\n",
      "638:\tlearn: 0.5441381\ttotal: 7.47s\tremaining: 4.22s\n",
      "639:\tlearn: 0.5440897\ttotal: 7.48s\tremaining: 4.21s\n",
      "640:\tlearn: 0.5438826\ttotal: 7.5s\tremaining: 4.2s\n",
      "641:\tlearn: 0.5438481\ttotal: 7.51s\tremaining: 4.18s\n",
      "642:\tlearn: 0.5437830\ttotal: 7.52s\tremaining: 4.17s\n",
      "643:\tlearn: 0.5436211\ttotal: 7.53s\tremaining: 4.16s\n",
      "644:\tlearn: 0.5434852\ttotal: 7.54s\tremaining: 4.15s\n",
      "645:\tlearn: 0.5434462\ttotal: 7.55s\tremaining: 4.14s\n",
      "646:\tlearn: 0.5434045\ttotal: 7.57s\tremaining: 4.13s\n",
      "647:\tlearn: 0.5433292\ttotal: 7.58s\tremaining: 4.12s\n",
      "648:\tlearn: 0.5432476\ttotal: 7.59s\tremaining: 4.1s\n",
      "649:\tlearn: 0.5431244\ttotal: 7.6s\tremaining: 4.09s\n",
      "650:\tlearn: 0.5431091\ttotal: 7.61s\tremaining: 4.08s\n",
      "651:\tlearn: 0.5430641\ttotal: 7.62s\tremaining: 4.07s\n",
      "652:\tlearn: 0.5430116\ttotal: 7.63s\tremaining: 4.06s\n",
      "653:\tlearn: 0.5430031\ttotal: 7.64s\tremaining: 4.04s\n",
      "654:\tlearn: 0.5428323\ttotal: 7.66s\tremaining: 4.03s\n",
      "655:\tlearn: 0.5427069\ttotal: 7.67s\tremaining: 4.02s\n",
      "656:\tlearn: 0.5426526\ttotal: 7.68s\tremaining: 4.01s\n",
      "657:\tlearn: 0.5425544\ttotal: 7.69s\tremaining: 4s\n",
      "658:\tlearn: 0.5424746\ttotal: 7.7s\tremaining: 3.98s\n",
      "659:\tlearn: 0.5423930\ttotal: 7.71s\tremaining: 3.97s\n",
      "660:\tlearn: 0.5420493\ttotal: 7.72s\tremaining: 3.96s\n",
      "661:\tlearn: 0.5420341\ttotal: 7.73s\tremaining: 3.95s\n",
      "662:\tlearn: 0.5420136\ttotal: 7.75s\tremaining: 3.94s\n",
      "663:\tlearn: 0.5418266\ttotal: 7.76s\tremaining: 3.92s\n",
      "664:\tlearn: 0.5417869\ttotal: 7.77s\tremaining: 3.91s\n",
      "665:\tlearn: 0.5417675\ttotal: 7.78s\tremaining: 3.9s\n",
      "666:\tlearn: 0.5416210\ttotal: 7.79s\tremaining: 3.89s\n",
      "667:\tlearn: 0.5415565\ttotal: 7.8s\tremaining: 3.88s\n",
      "668:\tlearn: 0.5414724\ttotal: 7.82s\tremaining: 3.87s\n",
      "669:\tlearn: 0.5414441\ttotal: 7.83s\tremaining: 3.85s\n",
      "670:\tlearn: 0.5413967\ttotal: 7.84s\tremaining: 3.84s\n",
      "671:\tlearn: 0.5411709\ttotal: 7.85s\tremaining: 3.83s\n",
      "672:\tlearn: 0.5410885\ttotal: 7.86s\tremaining: 3.82s\n",
      "673:\tlearn: 0.5410729\ttotal: 7.87s\tremaining: 3.81s\n",
      "674:\tlearn: 0.5409599\ttotal: 7.88s\tremaining: 3.8s\n",
      "675:\tlearn: 0.5409099\ttotal: 7.89s\tremaining: 3.78s\n",
      "676:\tlearn: 0.5408965\ttotal: 7.91s\tremaining: 3.77s\n",
      "677:\tlearn: 0.5407586\ttotal: 7.92s\tremaining: 3.76s\n",
      "678:\tlearn: 0.5407334\ttotal: 7.93s\tremaining: 3.75s\n",
      "679:\tlearn: 0.5404457\ttotal: 7.94s\tremaining: 3.74s\n",
      "680:\tlearn: 0.5401904\ttotal: 7.95s\tremaining: 3.73s\n",
      "681:\tlearn: 0.5401129\ttotal: 7.97s\tremaining: 3.71s\n",
      "682:\tlearn: 0.5400352\ttotal: 7.98s\tremaining: 3.7s\n",
      "683:\tlearn: 0.5399559\ttotal: 7.99s\tremaining: 3.69s\n",
      "684:\tlearn: 0.5399470\ttotal: 8s\tremaining: 3.68s\n",
      "685:\tlearn: 0.5398585\ttotal: 8.01s\tremaining: 3.67s\n",
      "686:\tlearn: 0.5397513\ttotal: 8.02s\tremaining: 3.65s\n",
      "687:\tlearn: 0.5396867\ttotal: 8.03s\tremaining: 3.64s\n",
      "688:\tlearn: 0.5392871\ttotal: 8.05s\tremaining: 3.63s\n",
      "689:\tlearn: 0.5392543\ttotal: 8.06s\tremaining: 3.62s\n",
      "690:\tlearn: 0.5392446\ttotal: 8.07s\tremaining: 3.61s\n",
      "691:\tlearn: 0.5389550\ttotal: 8.08s\tremaining: 3.6s\n",
      "692:\tlearn: 0.5386158\ttotal: 8.09s\tremaining: 3.58s\n",
      "693:\tlearn: 0.5385706\ttotal: 8.1s\tremaining: 3.57s\n",
      "694:\tlearn: 0.5383735\ttotal: 8.12s\tremaining: 3.56s\n",
      "695:\tlearn: 0.5383165\ttotal: 8.13s\tremaining: 3.55s\n",
      "696:\tlearn: 0.5379855\ttotal: 8.14s\tremaining: 3.54s\n",
      "697:\tlearn: 0.5378710\ttotal: 8.15s\tremaining: 3.53s\n",
      "698:\tlearn: 0.5376815\ttotal: 8.16s\tremaining: 3.52s\n",
      "699:\tlearn: 0.5373507\ttotal: 8.18s\tremaining: 3.5s\n",
      "700:\tlearn: 0.5370957\ttotal: 8.19s\tremaining: 3.49s\n",
      "701:\tlearn: 0.5369877\ttotal: 8.2s\tremaining: 3.48s\n",
      "702:\tlearn: 0.5368684\ttotal: 8.21s\tremaining: 3.47s\n",
      "703:\tlearn: 0.5368456\ttotal: 8.22s\tremaining: 3.46s\n",
      "704:\tlearn: 0.5367579\ttotal: 8.24s\tremaining: 3.45s\n",
      "705:\tlearn: 0.5367174\ttotal: 8.25s\tremaining: 3.43s\n",
      "706:\tlearn: 0.5366991\ttotal: 8.26s\tremaining: 3.42s\n",
      "707:\tlearn: 0.5365806\ttotal: 8.27s\tremaining: 3.41s\n",
      "708:\tlearn: 0.5359982\ttotal: 8.28s\tremaining: 3.4s\n",
      "709:\tlearn: 0.5358310\ttotal: 8.3s\tremaining: 3.39s\n",
      "710:\tlearn: 0.5357466\ttotal: 8.31s\tremaining: 3.38s\n",
      "711:\tlearn: 0.5357352\ttotal: 8.32s\tremaining: 3.37s\n",
      "712:\tlearn: 0.5355706\ttotal: 8.33s\tremaining: 3.35s\n",
      "713:\tlearn: 0.5354140\ttotal: 8.35s\tremaining: 3.34s\n",
      "714:\tlearn: 0.5354075\ttotal: 8.36s\tremaining: 3.33s\n",
      "715:\tlearn: 0.5353062\ttotal: 8.37s\tremaining: 3.32s\n",
      "716:\tlearn: 0.5351706\ttotal: 8.38s\tremaining: 3.31s\n",
      "717:\tlearn: 0.5351581\ttotal: 8.39s\tremaining: 3.3s\n",
      "718:\tlearn: 0.5349379\ttotal: 8.41s\tremaining: 3.29s\n",
      "719:\tlearn: 0.5348983\ttotal: 8.42s\tremaining: 3.27s\n",
      "720:\tlearn: 0.5348843\ttotal: 8.43s\tremaining: 3.26s\n",
      "721:\tlearn: 0.5347540\ttotal: 8.45s\tremaining: 3.25s\n",
      "722:\tlearn: 0.5347145\ttotal: 8.46s\tremaining: 3.24s\n",
      "723:\tlearn: 0.5346641\ttotal: 8.47s\tremaining: 3.23s\n",
      "724:\tlearn: 0.5346194\ttotal: 8.48s\tremaining: 3.22s\n",
      "725:\tlearn: 0.5345308\ttotal: 8.49s\tremaining: 3.21s\n",
      "726:\tlearn: 0.5344035\ttotal: 8.51s\tremaining: 3.19s\n",
      "727:\tlearn: 0.5343892\ttotal: 8.52s\tremaining: 3.18s\n",
      "728:\tlearn: 0.5343503\ttotal: 8.53s\tremaining: 3.17s\n",
      "729:\tlearn: 0.5341674\ttotal: 8.54s\tremaining: 3.16s\n",
      "730:\tlearn: 0.5337916\ttotal: 8.56s\tremaining: 3.15s\n",
      "731:\tlearn: 0.5336525\ttotal: 8.57s\tremaining: 3.14s\n",
      "732:\tlearn: 0.5335760\ttotal: 8.58s\tremaining: 3.13s\n",
      "733:\tlearn: 0.5335158\ttotal: 8.6s\tremaining: 3.12s\n",
      "734:\tlearn: 0.5333385\ttotal: 8.61s\tremaining: 3.1s\n",
      "735:\tlearn: 0.5332117\ttotal: 8.62s\tremaining: 3.09s\n",
      "736:\tlearn: 0.5331501\ttotal: 8.63s\tremaining: 3.08s\n",
      "737:\tlearn: 0.5330330\ttotal: 8.65s\tremaining: 3.07s\n",
      "738:\tlearn: 0.5328989\ttotal: 8.66s\tremaining: 3.06s\n",
      "739:\tlearn: 0.5328856\ttotal: 8.67s\tremaining: 3.05s\n",
      "740:\tlearn: 0.5328778\ttotal: 8.68s\tremaining: 3.04s\n",
      "741:\tlearn: 0.5327573\ttotal: 8.7s\tremaining: 3.02s\n",
      "742:\tlearn: 0.5325974\ttotal: 8.71s\tremaining: 3.01s\n",
      "743:\tlearn: 0.5325887\ttotal: 8.72s\tremaining: 3s\n",
      "744:\tlearn: 0.5322601\ttotal: 8.73s\tremaining: 2.99s\n",
      "745:\tlearn: 0.5322262\ttotal: 8.75s\tremaining: 2.98s\n",
      "746:\tlearn: 0.5320876\ttotal: 8.76s\tremaining: 2.97s\n",
      "747:\tlearn: 0.5319006\ttotal: 8.77s\tremaining: 2.96s\n",
      "748:\tlearn: 0.5318630\ttotal: 8.78s\tremaining: 2.94s\n",
      "749:\tlearn: 0.5318429\ttotal: 8.79s\tremaining: 2.93s\n",
      "750:\tlearn: 0.5318165\ttotal: 8.81s\tremaining: 2.92s\n",
      "751:\tlearn: 0.5316938\ttotal: 8.82s\tremaining: 2.91s\n",
      "752:\tlearn: 0.5314784\ttotal: 8.83s\tremaining: 2.9s\n",
      "753:\tlearn: 0.5313995\ttotal: 8.85s\tremaining: 2.89s\n",
      "754:\tlearn: 0.5313456\ttotal: 8.86s\tremaining: 2.87s\n",
      "755:\tlearn: 0.5312472\ttotal: 8.87s\tremaining: 2.86s\n",
      "756:\tlearn: 0.5312075\ttotal: 8.88s\tremaining: 2.85s\n",
      "757:\tlearn: 0.5310398\ttotal: 8.9s\tremaining: 2.84s\n",
      "758:\tlearn: 0.5309654\ttotal: 8.91s\tremaining: 2.83s\n",
      "759:\tlearn: 0.5309023\ttotal: 8.92s\tremaining: 2.82s\n",
      "760:\tlearn: 0.5306390\ttotal: 8.94s\tremaining: 2.81s\n",
      "761:\tlearn: 0.5305560\ttotal: 8.95s\tremaining: 2.79s\n",
      "762:\tlearn: 0.5305414\ttotal: 8.96s\tremaining: 2.78s\n",
      "763:\tlearn: 0.5304322\ttotal: 8.97s\tremaining: 2.77s\n",
      "764:\tlearn: 0.5302570\ttotal: 8.98s\tremaining: 2.76s\n",
      "765:\tlearn: 0.5299659\ttotal: 9s\tremaining: 2.75s\n",
      "766:\tlearn: 0.5299518\ttotal: 9.01s\tremaining: 2.74s\n",
      "767:\tlearn: 0.5298868\ttotal: 9.02s\tremaining: 2.72s\n",
      "768:\tlearn: 0.5297606\ttotal: 9.03s\tremaining: 2.71s\n",
      "769:\tlearn: 0.5296606\ttotal: 9.05s\tremaining: 2.7s\n",
      "770:\tlearn: 0.5295199\ttotal: 9.06s\tremaining: 2.69s\n",
      "771:\tlearn: 0.5294904\ttotal: 9.07s\tremaining: 2.68s\n",
      "772:\tlearn: 0.5294055\ttotal: 9.08s\tremaining: 2.67s\n",
      "773:\tlearn: 0.5292727\ttotal: 9.1s\tremaining: 2.66s\n",
      "774:\tlearn: 0.5292520\ttotal: 9.11s\tremaining: 2.64s\n",
      "775:\tlearn: 0.5292346\ttotal: 9.12s\tremaining: 2.63s\n",
      "776:\tlearn: 0.5291652\ttotal: 9.13s\tremaining: 2.62s\n",
      "777:\tlearn: 0.5291019\ttotal: 9.15s\tremaining: 2.61s\n",
      "778:\tlearn: 0.5290745\ttotal: 9.16s\tremaining: 2.6s\n",
      "779:\tlearn: 0.5290570\ttotal: 9.17s\tremaining: 2.59s\n",
      "780:\tlearn: 0.5289907\ttotal: 9.18s\tremaining: 2.58s\n",
      "781:\tlearn: 0.5289363\ttotal: 9.2s\tremaining: 2.56s\n",
      "782:\tlearn: 0.5288080\ttotal: 9.21s\tremaining: 2.55s\n",
      "783:\tlearn: 0.5287423\ttotal: 9.22s\tremaining: 2.54s\n",
      "784:\tlearn: 0.5286542\ttotal: 9.23s\tremaining: 2.53s\n",
      "785:\tlearn: 0.5285467\ttotal: 9.25s\tremaining: 2.52s\n",
      "786:\tlearn: 0.5284055\ttotal: 9.26s\tremaining: 2.51s\n",
      "787:\tlearn: 0.5283984\ttotal: 9.27s\tremaining: 2.49s\n",
      "788:\tlearn: 0.5283943\ttotal: 9.28s\tremaining: 2.48s\n",
      "789:\tlearn: 0.5282586\ttotal: 9.29s\tremaining: 2.47s\n",
      "790:\tlearn: 0.5280711\ttotal: 9.31s\tremaining: 2.46s\n",
      "791:\tlearn: 0.5279846\ttotal: 9.32s\tremaining: 2.45s\n",
      "792:\tlearn: 0.5278620\ttotal: 9.33s\tremaining: 2.44s\n",
      "793:\tlearn: 0.5277711\ttotal: 9.34s\tremaining: 2.42s\n",
      "794:\tlearn: 0.5275903\ttotal: 9.36s\tremaining: 2.41s\n",
      "795:\tlearn: 0.5275407\ttotal: 9.37s\tremaining: 2.4s\n",
      "796:\tlearn: 0.5273897\ttotal: 9.38s\tremaining: 2.39s\n",
      "797:\tlearn: 0.5273620\ttotal: 9.4s\tremaining: 2.38s\n",
      "798:\tlearn: 0.5273535\ttotal: 9.41s\tremaining: 2.37s\n",
      "799:\tlearn: 0.5270183\ttotal: 9.42s\tremaining: 2.35s\n",
      "800:\tlearn: 0.5269739\ttotal: 9.43s\tremaining: 2.34s\n",
      "801:\tlearn: 0.5268520\ttotal: 9.45s\tremaining: 2.33s\n",
      "802:\tlearn: 0.5268101\ttotal: 9.46s\tremaining: 2.32s\n",
      "803:\tlearn: 0.5265707\ttotal: 9.47s\tremaining: 2.31s\n",
      "804:\tlearn: 0.5263342\ttotal: 9.48s\tremaining: 2.3s\n",
      "805:\tlearn: 0.5262521\ttotal: 9.5s\tremaining: 2.29s\n",
      "806:\tlearn: 0.5262144\ttotal: 9.51s\tremaining: 2.27s\n",
      "807:\tlearn: 0.5260923\ttotal: 9.52s\tremaining: 2.26s\n",
      "808:\tlearn: 0.5256882\ttotal: 9.54s\tremaining: 2.25s\n",
      "809:\tlearn: 0.5256622\ttotal: 9.55s\tremaining: 2.24s\n",
      "810:\tlearn: 0.5256365\ttotal: 9.56s\tremaining: 2.23s\n",
      "811:\tlearn: 0.5255278\ttotal: 9.57s\tremaining: 2.22s\n",
      "812:\tlearn: 0.5255171\ttotal: 9.58s\tremaining: 2.2s\n",
      "813:\tlearn: 0.5254652\ttotal: 9.6s\tremaining: 2.19s\n",
      "814:\tlearn: 0.5254187\ttotal: 9.61s\tremaining: 2.18s\n",
      "815:\tlearn: 0.5251573\ttotal: 9.62s\tremaining: 2.17s\n",
      "816:\tlearn: 0.5250972\ttotal: 9.63s\tremaining: 2.16s\n",
      "817:\tlearn: 0.5250778\ttotal: 9.64s\tremaining: 2.15s\n",
      "818:\tlearn: 0.5250539\ttotal: 9.66s\tremaining: 2.13s\n",
      "819:\tlearn: 0.5250356\ttotal: 9.67s\tremaining: 2.12s\n",
      "820:\tlearn: 0.5249577\ttotal: 9.68s\tremaining: 2.11s\n",
      "821:\tlearn: 0.5249508\ttotal: 9.69s\tremaining: 2.1s\n",
      "822:\tlearn: 0.5247282\ttotal: 9.71s\tremaining: 2.09s\n",
      "823:\tlearn: 0.5246938\ttotal: 9.72s\tremaining: 2.08s\n",
      "824:\tlearn: 0.5245033\ttotal: 9.73s\tremaining: 2.06s\n",
      "825:\tlearn: 0.5244032\ttotal: 9.74s\tremaining: 2.05s\n",
      "826:\tlearn: 0.5242090\ttotal: 9.76s\tremaining: 2.04s\n",
      "827:\tlearn: 0.5241153\ttotal: 9.77s\tremaining: 2.03s\n",
      "828:\tlearn: 0.5239008\ttotal: 9.78s\tremaining: 2.02s\n",
      "829:\tlearn: 0.5237527\ttotal: 9.8s\tremaining: 2.01s\n",
      "830:\tlearn: 0.5236047\ttotal: 9.81s\tremaining: 1.99s\n",
      "831:\tlearn: 0.5233214\ttotal: 9.82s\tremaining: 1.98s\n",
      "832:\tlearn: 0.5231163\ttotal: 9.84s\tremaining: 1.97s\n",
      "833:\tlearn: 0.5229597\ttotal: 9.85s\tremaining: 1.96s\n",
      "834:\tlearn: 0.5229086\ttotal: 9.86s\tremaining: 1.95s\n",
      "835:\tlearn: 0.5227554\ttotal: 9.87s\tremaining: 1.94s\n",
      "836:\tlearn: 0.5226168\ttotal: 9.88s\tremaining: 1.93s\n",
      "837:\tlearn: 0.5226031\ttotal: 9.9s\tremaining: 1.91s\n",
      "838:\tlearn: 0.5223423\ttotal: 9.91s\tremaining: 1.9s\n",
      "839:\tlearn: 0.5221911\ttotal: 9.92s\tremaining: 1.89s\n",
      "840:\tlearn: 0.5220830\ttotal: 9.94s\tremaining: 1.88s\n",
      "841:\tlearn: 0.5220382\ttotal: 9.95s\tremaining: 1.87s\n",
      "842:\tlearn: 0.5219929\ttotal: 9.96s\tremaining: 1.85s\n",
      "843:\tlearn: 0.5219009\ttotal: 9.97s\tremaining: 1.84s\n",
      "844:\tlearn: 0.5218767\ttotal: 9.98s\tremaining: 1.83s\n",
      "845:\tlearn: 0.5218183\ttotal: 9.99s\tremaining: 1.82s\n",
      "846:\tlearn: 0.5217833\ttotal: 10s\tremaining: 1.81s\n",
      "847:\tlearn: 0.5216865\ttotal: 10s\tremaining: 1.79s\n",
      "848:\tlearn: 0.5215292\ttotal: 10s\tremaining: 1.78s\n",
      "849:\tlearn: 0.5215227\ttotal: 10s\tremaining: 1.77s\n",
      "850:\tlearn: 0.5214540\ttotal: 10.1s\tremaining: 1.76s\n",
      "851:\tlearn: 0.5213216\ttotal: 10.1s\tremaining: 1.75s\n",
      "852:\tlearn: 0.5212895\ttotal: 10.1s\tremaining: 1.74s\n",
      "853:\tlearn: 0.5211503\ttotal: 10.1s\tremaining: 1.73s\n",
      "854:\tlearn: 0.5208890\ttotal: 10.1s\tremaining: 1.71s\n",
      "855:\tlearn: 0.5208405\ttotal: 10.1s\tremaining: 1.7s\n",
      "856:\tlearn: 0.5207929\ttotal: 10.1s\tremaining: 1.69s\n",
      "857:\tlearn: 0.5206662\ttotal: 10.1s\tremaining: 1.68s\n",
      "858:\tlearn: 0.5205807\ttotal: 10.2s\tremaining: 1.67s\n",
      "859:\tlearn: 0.5204544\ttotal: 10.2s\tremaining: 1.66s\n",
      "860:\tlearn: 0.5203020\ttotal: 10.2s\tremaining: 1.64s\n",
      "861:\tlearn: 0.5202589\ttotal: 10.2s\tremaining: 1.63s\n",
      "862:\tlearn: 0.5201225\ttotal: 10.2s\tremaining: 1.62s\n",
      "863:\tlearn: 0.5200063\ttotal: 10.2s\tremaining: 1.61s\n",
      "864:\tlearn: 0.5200013\ttotal: 10.2s\tremaining: 1.6s\n",
      "865:\tlearn: 0.5198912\ttotal: 10.2s\tremaining: 1.58s\n",
      "866:\tlearn: 0.5198195\ttotal: 10.3s\tremaining: 1.57s\n",
      "867:\tlearn: 0.5196510\ttotal: 10.3s\tremaining: 1.56s\n",
      "868:\tlearn: 0.5195350\ttotal: 10.3s\tremaining: 1.55s\n",
      "869:\tlearn: 0.5195255\ttotal: 10.3s\tremaining: 1.54s\n",
      "870:\tlearn: 0.5193417\ttotal: 10.3s\tremaining: 1.53s\n",
      "871:\tlearn: 0.5193357\ttotal: 10.3s\tremaining: 1.51s\n",
      "872:\tlearn: 0.5190603\ttotal: 10.3s\tremaining: 1.5s\n",
      "873:\tlearn: 0.5190013\ttotal: 10.3s\tremaining: 1.49s\n",
      "874:\tlearn: 0.5189047\ttotal: 10.4s\tremaining: 1.48s\n",
      "875:\tlearn: 0.5185850\ttotal: 10.4s\tremaining: 1.47s\n",
      "876:\tlearn: 0.5184869\ttotal: 10.4s\tremaining: 1.46s\n",
      "877:\tlearn: 0.5183503\ttotal: 10.4s\tremaining: 1.44s\n",
      "878:\tlearn: 0.5182470\ttotal: 10.4s\tremaining: 1.43s\n",
      "879:\tlearn: 0.5181241\ttotal: 10.4s\tremaining: 1.42s\n",
      "880:\tlearn: 0.5180343\ttotal: 10.4s\tremaining: 1.41s\n",
      "881:\tlearn: 0.5180161\ttotal: 10.4s\tremaining: 1.4s\n",
      "882:\tlearn: 0.5177474\ttotal: 10.5s\tremaining: 1.39s\n",
      "883:\tlearn: 0.5177414\ttotal: 10.5s\tremaining: 1.37s\n",
      "884:\tlearn: 0.5176339\ttotal: 10.5s\tremaining: 1.36s\n",
      "885:\tlearn: 0.5174793\ttotal: 10.5s\tremaining: 1.35s\n",
      "886:\tlearn: 0.5173794\ttotal: 10.5s\tremaining: 1.34s\n",
      "887:\tlearn: 0.5172382\ttotal: 10.5s\tremaining: 1.32s\n",
      "888:\tlearn: 0.5170412\ttotal: 10.5s\tremaining: 1.31s\n",
      "889:\tlearn: 0.5169061\ttotal: 10.5s\tremaining: 1.3s\n",
      "890:\tlearn: 0.5167971\ttotal: 10.5s\tremaining: 1.29s\n",
      "891:\tlearn: 0.5166626\ttotal: 10.6s\tremaining: 1.28s\n",
      "892:\tlearn: 0.5166247\ttotal: 10.6s\tremaining: 1.27s\n",
      "893:\tlearn: 0.5165815\ttotal: 10.6s\tremaining: 1.25s\n",
      "894:\tlearn: 0.5163790\ttotal: 10.6s\tremaining: 1.24s\n",
      "895:\tlearn: 0.5160922\ttotal: 10.6s\tremaining: 1.23s\n",
      "896:\tlearn: 0.5160110\ttotal: 10.6s\tremaining: 1.22s\n",
      "897:\tlearn: 0.5159051\ttotal: 10.6s\tremaining: 1.21s\n",
      "898:\tlearn: 0.5158747\ttotal: 10.6s\tremaining: 1.2s\n",
      "899:\tlearn: 0.5158505\ttotal: 10.7s\tremaining: 1.18s\n",
      "900:\tlearn: 0.5157680\ttotal: 10.7s\tremaining: 1.17s\n",
      "901:\tlearn: 0.5157556\ttotal: 10.7s\tremaining: 1.16s\n",
      "902:\tlearn: 0.5155799\ttotal: 10.7s\tremaining: 1.15s\n",
      "903:\tlearn: 0.5154389\ttotal: 10.7s\tremaining: 1.14s\n",
      "904:\tlearn: 0.5152895\ttotal: 10.7s\tremaining: 1.12s\n",
      "905:\tlearn: 0.5152215\ttotal: 10.7s\tremaining: 1.11s\n",
      "906:\tlearn: 0.5152136\ttotal: 10.7s\tremaining: 1.1s\n",
      "907:\tlearn: 0.5151890\ttotal: 10.7s\tremaining: 1.09s\n",
      "908:\tlearn: 0.5150950\ttotal: 10.8s\tremaining: 1.08s\n",
      "909:\tlearn: 0.5149940\ttotal: 10.8s\tremaining: 1.06s\n",
      "910:\tlearn: 0.5149777\ttotal: 10.8s\tremaining: 1.05s\n",
      "911:\tlearn: 0.5148481\ttotal: 10.8s\tremaining: 1.04s\n",
      "912:\tlearn: 0.5148283\ttotal: 10.8s\tremaining: 1.03s\n",
      "913:\tlearn: 0.5148063\ttotal: 10.8s\tremaining: 1.02s\n",
      "914:\tlearn: 0.5147331\ttotal: 10.8s\tremaining: 1s\n",
      "915:\tlearn: 0.5146692\ttotal: 10.8s\tremaining: 994ms\n",
      "916:\tlearn: 0.5145725\ttotal: 10.8s\tremaining: 982ms\n",
      "917:\tlearn: 0.5145219\ttotal: 10.9s\tremaining: 970ms\n",
      "918:\tlearn: 0.5143278\ttotal: 10.9s\tremaining: 958ms\n",
      "919:\tlearn: 0.5142253\ttotal: 10.9s\tremaining: 946ms\n",
      "920:\tlearn: 0.5141783\ttotal: 10.9s\tremaining: 935ms\n",
      "921:\tlearn: 0.5141538\ttotal: 10.9s\tremaining: 923ms\n",
      "922:\tlearn: 0.5141420\ttotal: 10.9s\tremaining: 911ms\n",
      "923:\tlearn: 0.5141363\ttotal: 10.9s\tremaining: 899ms\n",
      "924:\tlearn: 0.5139132\ttotal: 10.9s\tremaining: 887ms\n",
      "925:\tlearn: 0.5138430\ttotal: 11s\tremaining: 875ms\n",
      "926:\tlearn: 0.5138315\ttotal: 11s\tremaining: 863ms\n",
      "927:\tlearn: 0.5136257\ttotal: 11s\tremaining: 851ms\n",
      "928:\tlearn: 0.5135678\ttotal: 11s\tremaining: 840ms\n",
      "929:\tlearn: 0.5134925\ttotal: 11s\tremaining: 828ms\n",
      "930:\tlearn: 0.5133701\ttotal: 11s\tremaining: 816ms\n",
      "931:\tlearn: 0.5131400\ttotal: 11s\tremaining: 804ms\n",
      "932:\tlearn: 0.5128531\ttotal: 11s\tremaining: 792ms\n",
      "933:\tlearn: 0.5127142\ttotal: 11s\tremaining: 781ms\n",
      "934:\tlearn: 0.5126562\ttotal: 11.1s\tremaining: 769ms\n",
      "935:\tlearn: 0.5125052\ttotal: 11.1s\tremaining: 757ms\n",
      "936:\tlearn: 0.5124993\ttotal: 11.1s\tremaining: 745ms\n",
      "937:\tlearn: 0.5123337\ttotal: 11.1s\tremaining: 733ms\n",
      "938:\tlearn: 0.5123079\ttotal: 11.1s\tremaining: 721ms\n",
      "939:\tlearn: 0.5123031\ttotal: 11.1s\tremaining: 709ms\n",
      "940:\tlearn: 0.5122526\ttotal: 11.1s\tremaining: 698ms\n",
      "941:\tlearn: 0.5122436\ttotal: 11.1s\tremaining: 686ms\n",
      "942:\tlearn: 0.5122083\ttotal: 11.1s\tremaining: 674ms\n",
      "943:\tlearn: 0.5118737\ttotal: 11.2s\tremaining: 662ms\n",
      "944:\tlearn: 0.5118506\ttotal: 11.2s\tremaining: 650ms\n",
      "945:\tlearn: 0.5117595\ttotal: 11.2s\tremaining: 638ms\n",
      "946:\tlearn: 0.5116817\ttotal: 11.2s\tremaining: 627ms\n",
      "947:\tlearn: 0.5116158\ttotal: 11.2s\tremaining: 615ms\n",
      "948:\tlearn: 0.5114453\ttotal: 11.2s\tremaining: 603ms\n",
      "949:\tlearn: 0.5112878\ttotal: 11.2s\tremaining: 591ms\n",
      "950:\tlearn: 0.5111570\ttotal: 11.3s\tremaining: 580ms\n",
      "951:\tlearn: 0.5109009\ttotal: 11.3s\tremaining: 569ms\n",
      "952:\tlearn: 0.5107386\ttotal: 11.3s\tremaining: 557ms\n",
      "953:\tlearn: 0.5104553\ttotal: 11.3s\tremaining: 545ms\n",
      "954:\tlearn: 0.5103423\ttotal: 11.3s\tremaining: 533ms\n",
      "955:\tlearn: 0.5100504\ttotal: 11.3s\tremaining: 522ms\n",
      "956:\tlearn: 0.5098189\ttotal: 11.4s\tremaining: 510ms\n",
      "957:\tlearn: 0.5097972\ttotal: 11.4s\tremaining: 498ms\n",
      "958:\tlearn: 0.5097354\ttotal: 11.4s\tremaining: 487ms\n",
      "959:\tlearn: 0.5096807\ttotal: 11.4s\tremaining: 475ms\n",
      "960:\tlearn: 0.5095941\ttotal: 11.4s\tremaining: 463ms\n",
      "961:\tlearn: 0.5094863\ttotal: 11.4s\tremaining: 451ms\n",
      "962:\tlearn: 0.5093172\ttotal: 11.4s\tremaining: 439ms\n",
      "963:\tlearn: 0.5092659\ttotal: 11.4s\tremaining: 427ms\n",
      "964:\tlearn: 0.5091788\ttotal: 11.5s\tremaining: 416ms\n",
      "965:\tlearn: 0.5091596\ttotal: 11.5s\tremaining: 404ms\n",
      "966:\tlearn: 0.5090815\ttotal: 11.5s\tremaining: 392ms\n",
      "967:\tlearn: 0.5090173\ttotal: 11.5s\tremaining: 380ms\n",
      "968:\tlearn: 0.5088044\ttotal: 11.5s\tremaining: 368ms\n",
      "969:\tlearn: 0.5087136\ttotal: 11.5s\tremaining: 356ms\n",
      "970:\tlearn: 0.5086779\ttotal: 11.5s\tremaining: 345ms\n",
      "971:\tlearn: 0.5084968\ttotal: 11.5s\tremaining: 333ms\n",
      "972:\tlearn: 0.5083843\ttotal: 11.6s\tremaining: 321ms\n",
      "973:\tlearn: 0.5083730\ttotal: 11.6s\tremaining: 309ms\n",
      "974:\tlearn: 0.5081883\ttotal: 11.6s\tremaining: 297ms\n",
      "975:\tlearn: 0.5080864\ttotal: 11.6s\tremaining: 285ms\n",
      "976:\tlearn: 0.5080309\ttotal: 11.6s\tremaining: 273ms\n",
      "977:\tlearn: 0.5079344\ttotal: 11.6s\tremaining: 262ms\n",
      "978:\tlearn: 0.5078564\ttotal: 11.6s\tremaining: 250ms\n",
      "979:\tlearn: 0.5078488\ttotal: 11.7s\tremaining: 238ms\n",
      "980:\tlearn: 0.5076544\ttotal: 11.7s\tremaining: 226ms\n",
      "981:\tlearn: 0.5075073\ttotal: 11.7s\tremaining: 214ms\n",
      "982:\tlearn: 0.5072592\ttotal: 11.7s\tremaining: 202ms\n",
      "983:\tlearn: 0.5071016\ttotal: 11.7s\tremaining: 190ms\n",
      "984:\tlearn: 0.5069510\ttotal: 11.7s\tremaining: 178ms\n",
      "985:\tlearn: 0.5069387\ttotal: 11.7s\tremaining: 167ms\n",
      "986:\tlearn: 0.5067639\ttotal: 11.7s\tremaining: 155ms\n",
      "987:\tlearn: 0.5067435\ttotal: 11.8s\tremaining: 143ms\n",
      "988:\tlearn: 0.5066539\ttotal: 11.8s\tremaining: 131ms\n",
      "989:\tlearn: 0.5065333\ttotal: 11.8s\tremaining: 119ms\n",
      "990:\tlearn: 0.5065255\ttotal: 11.8s\tremaining: 107ms\n",
      "991:\tlearn: 0.5063561\ttotal: 11.8s\tremaining: 95.2ms\n",
      "992:\tlearn: 0.5062117\ttotal: 11.8s\tremaining: 83.3ms\n",
      "993:\tlearn: 0.5059725\ttotal: 11.8s\tremaining: 71.4ms\n",
      "994:\tlearn: 0.5059316\ttotal: 11.8s\tremaining: 59.5ms\n",
      "995:\tlearn: 0.5058758\ttotal: 11.9s\tremaining: 47.6ms\n",
      "996:\tlearn: 0.5056779\ttotal: 11.9s\tremaining: 35.7ms\n",
      "997:\tlearn: 0.5055675\ttotal: 11.9s\tremaining: 23.8ms\n",
      "998:\tlearn: 0.5055554\ttotal: 11.9s\tremaining: 11.9ms\n",
      "999:\tlearn: 0.5055196\ttotal: 11.9s\tremaining: 0us\n"
     ]
    },
    {
     "data": {
      "text/plain": [
       "<catboost.core.CatBoostClassifier at 0x7c6d8b3640a0>"
      ]
     },
     "execution_count": 170,
     "metadata": {},
     "output_type": "execute_result"
    }
   ],
   "source": [
    "# <USE IT!>\n",
    "clf = CatBoostClassifier()\n",
    "clf.fit(sparse_data_train, clean_data_train['average_bill'])"
   ]
  },
  {
   "cell_type": "markdown",
   "metadata": {
    "id": "SBOpZY9BGH7Q"
   },
   "source": [
    "**11. Пришлите в Контест balanced_accuracy_score на тестовой выборке, округлённый до двух знаков после запятой**. Стало ли сильно лучше от того, что мы воспользовались таким крутым классификатором?"
   ]
  },
  {
   "cell_type": "code",
   "execution_count": 171,
   "metadata": {},
   "outputs": [],
   "source": [
    "y_pred_ctb = clf.predict(sparse_data_test)\n",
    "y_pred_ctb = y_pred_ctb.reshape(-1)"
   ]
  },
  {
   "cell_type": "code",
   "execution_count": 176,
   "metadata": {},
   "outputs": [
    {
     "name": "stdout",
     "output_type": "stream",
     "text": [
      "balanced_accuracy_score 0.19649748609299206\n",
      "classification_report\n",
      "               precision    recall  f1-score   support\n",
      "\n",
      "       500.0     0.6935    0.7603    0.7254      7368\n",
      "      1000.0     0.1553    0.1327    0.1431      1809\n",
      "      1500.0     0.0871    0.0742    0.0801       890\n",
      "      2000.0     0.0314    0.0153    0.0206       391\n",
      "      2500.0     0.0000    0.0000    0.0000       147\n",
      "\n",
      "    accuracy                         0.5577     10605\n",
      "   macro avg     0.1935    0.1965    0.1938     10605\n",
      "weighted avg     0.5168    0.5577    0.5359     10605\n",
      "\n"
     ]
    }
   ],
   "source": [
    "print('balanced_accuracy_score', balanced_accuracy_score(clean_data_test['average_bill'], y_pred_ctb,))\n",
    "print('classification_report\\n', classification_report(clean_data_test['average_bill'], y_pred_ctb, digits = 4))\n"
   ]
  },
  {
   "cell_type": "code",
   "execution_count": 173,
   "metadata": {},
   "outputs": [
    {
     "name": "stdout",
     "output_type": "stream",
     "text": [
      "accuracy_score 0.5576614804337576\n"
     ]
    }
   ],
   "source": [
    "from sklearn.metrics import accu\n",
    "print('accuracy_score', accuracy_score(clean_data_test['average_bill'], y_pred_ctb,))"
   ]
  },
  {
   "cell_type": "code",
   "execution_count": null,
   "metadata": {},
   "outputs": [],
   "source": []
  }
 ],
 "metadata": {
  "colab": {
   "provenance": []
  },
  "kernelspec": {
   "display_name": "Python 3 (ipykernel)",
   "language": "python",
   "name": "python3"
  },
  "language_info": {
   "codemirror_mode": {
    "name": "ipython",
    "version": 3
   },
   "file_extension": ".py",
   "mimetype": "text/x-python",
   "name": "python",
   "nbconvert_exporter": "python",
   "pygments_lexer": "ipython3",
   "version": "3.10.12"
  }
 },
 "nbformat": 4,
 "nbformat_minor": 4
}
